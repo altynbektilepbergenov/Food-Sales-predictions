{
 "cells": [
  {
   "cell_type": "code",
   "execution_count": 2,
   "metadata": {
    "colab": {
     "base_uri": "https://localhost:8080/"
    },
    "id": "VAHkwEaOYogv",
    "outputId": "8c24de19-ec04-4b2e-db1c-c7d2e38becc3"
   },
   "outputs": [
    {
     "name": "stdout",
     "output_type": "stream",
     "text": [
      "Mounted at /content/drive\n"
     ]
    }
   ],
   "source": [
    "from google.colab import drive\n",
    "drive.mount('/content/drive')\n",
    "\n"
   ]
  },
  {
   "cell_type": "code",
   "execution_count": 3,
   "metadata": {
    "id": "K9BBBVD0Y14z"
   },
   "outputs": [],
   "source": [
    "import matplotlib.pyplot as plt\n",
    "import seaborn as sns\n",
    "import pandas as pd\n",
    "import numpy as np\n",
    "\n"
   ]
  },
  {
   "cell_type": "code",
   "execution_count": 4,
   "metadata": {
    "colab": {
     "base_uri": "https://localhost:8080/",
     "height": 609
    },
    "id": "co-0R6edY8Uq",
    "outputId": "04f98ba3-7ea2-4887-9b17-74f7bab88c5f"
   },
   "outputs": [
    {
     "data": {
      "text/html": [
       "<div>\n",
       "<style scoped>\n",
       "    .dataframe tbody tr th:only-of-type {\n",
       "        vertical-align: middle;\n",
       "    }\n",
       "\n",
       "    .dataframe tbody tr th {\n",
       "        vertical-align: top;\n",
       "    }\n",
       "\n",
       "    .dataframe thead th {\n",
       "        text-align: right;\n",
       "    }\n",
       "</style>\n",
       "<table border=\"1\" class=\"dataframe\">\n",
       "  <thead>\n",
       "    <tr style=\"text-align: right;\">\n",
       "      <th></th>\n",
       "      <th>Item_Identifier</th>\n",
       "      <th>Item_Weight</th>\n",
       "      <th>Item_Fat_Content</th>\n",
       "      <th>Item_Visibility</th>\n",
       "      <th>Item_Type</th>\n",
       "      <th>Item_MRP</th>\n",
       "      <th>Outlet_Identifier</th>\n",
       "      <th>Outlet_Establishment_Year</th>\n",
       "      <th>Outlet_Size</th>\n",
       "      <th>Outlet_Location_Type</th>\n",
       "      <th>Outlet_Type</th>\n",
       "      <th>Item_Outlet_Sales</th>\n",
       "    </tr>\n",
       "  </thead>\n",
       "  <tbody>\n",
       "    <tr>\n",
       "      <th>0</th>\n",
       "      <td>FDA15</td>\n",
       "      <td>9.300</td>\n",
       "      <td>Low Fat</td>\n",
       "      <td>0.016047</td>\n",
       "      <td>Dairy</td>\n",
       "      <td>249.8092</td>\n",
       "      <td>OUT049</td>\n",
       "      <td>1999</td>\n",
       "      <td>Medium</td>\n",
       "      <td>Tier 1</td>\n",
       "      <td>Supermarket Type1</td>\n",
       "      <td>3735.1380</td>\n",
       "    </tr>\n",
       "    <tr>\n",
       "      <th>1</th>\n",
       "      <td>DRC01</td>\n",
       "      <td>5.920</td>\n",
       "      <td>Regular</td>\n",
       "      <td>0.019278</td>\n",
       "      <td>Soft Drinks</td>\n",
       "      <td>48.2692</td>\n",
       "      <td>OUT018</td>\n",
       "      <td>2009</td>\n",
       "      <td>Medium</td>\n",
       "      <td>Tier 3</td>\n",
       "      <td>Supermarket Type2</td>\n",
       "      <td>443.4228</td>\n",
       "    </tr>\n",
       "    <tr>\n",
       "      <th>2</th>\n",
       "      <td>FDN15</td>\n",
       "      <td>17.500</td>\n",
       "      <td>Low Fat</td>\n",
       "      <td>0.016760</td>\n",
       "      <td>Meat</td>\n",
       "      <td>141.6180</td>\n",
       "      <td>OUT049</td>\n",
       "      <td>1999</td>\n",
       "      <td>Medium</td>\n",
       "      <td>Tier 1</td>\n",
       "      <td>Supermarket Type1</td>\n",
       "      <td>2097.2700</td>\n",
       "    </tr>\n",
       "    <tr>\n",
       "      <th>3</th>\n",
       "      <td>FDX07</td>\n",
       "      <td>19.200</td>\n",
       "      <td>Regular</td>\n",
       "      <td>0.000000</td>\n",
       "      <td>Fruits and Vegetables</td>\n",
       "      <td>182.0950</td>\n",
       "      <td>OUT010</td>\n",
       "      <td>1998</td>\n",
       "      <td>NaN</td>\n",
       "      <td>Tier 3</td>\n",
       "      <td>Grocery Store</td>\n",
       "      <td>732.3800</td>\n",
       "    </tr>\n",
       "    <tr>\n",
       "      <th>4</th>\n",
       "      <td>NCD19</td>\n",
       "      <td>8.930</td>\n",
       "      <td>Low Fat</td>\n",
       "      <td>0.000000</td>\n",
       "      <td>Household</td>\n",
       "      <td>53.8614</td>\n",
       "      <td>OUT013</td>\n",
       "      <td>1987</td>\n",
       "      <td>High</td>\n",
       "      <td>Tier 3</td>\n",
       "      <td>Supermarket Type1</td>\n",
       "      <td>994.7052</td>\n",
       "    </tr>\n",
       "    <tr>\n",
       "      <th>...</th>\n",
       "      <td>...</td>\n",
       "      <td>...</td>\n",
       "      <td>...</td>\n",
       "      <td>...</td>\n",
       "      <td>...</td>\n",
       "      <td>...</td>\n",
       "      <td>...</td>\n",
       "      <td>...</td>\n",
       "      <td>...</td>\n",
       "      <td>...</td>\n",
       "      <td>...</td>\n",
       "      <td>...</td>\n",
       "    </tr>\n",
       "    <tr>\n",
       "      <th>8518</th>\n",
       "      <td>FDF22</td>\n",
       "      <td>6.865</td>\n",
       "      <td>Low Fat</td>\n",
       "      <td>0.056783</td>\n",
       "      <td>Snack Foods</td>\n",
       "      <td>214.5218</td>\n",
       "      <td>OUT013</td>\n",
       "      <td>1987</td>\n",
       "      <td>High</td>\n",
       "      <td>Tier 3</td>\n",
       "      <td>Supermarket Type1</td>\n",
       "      <td>2778.3834</td>\n",
       "    </tr>\n",
       "    <tr>\n",
       "      <th>8519</th>\n",
       "      <td>FDS36</td>\n",
       "      <td>8.380</td>\n",
       "      <td>Regular</td>\n",
       "      <td>0.046982</td>\n",
       "      <td>Baking Goods</td>\n",
       "      <td>108.1570</td>\n",
       "      <td>OUT045</td>\n",
       "      <td>2002</td>\n",
       "      <td>NaN</td>\n",
       "      <td>Tier 2</td>\n",
       "      <td>Supermarket Type1</td>\n",
       "      <td>549.2850</td>\n",
       "    </tr>\n",
       "    <tr>\n",
       "      <th>8520</th>\n",
       "      <td>NCJ29</td>\n",
       "      <td>10.600</td>\n",
       "      <td>Low Fat</td>\n",
       "      <td>0.035186</td>\n",
       "      <td>Health and Hygiene</td>\n",
       "      <td>85.1224</td>\n",
       "      <td>OUT035</td>\n",
       "      <td>2004</td>\n",
       "      <td>Small</td>\n",
       "      <td>Tier 2</td>\n",
       "      <td>Supermarket Type1</td>\n",
       "      <td>1193.1136</td>\n",
       "    </tr>\n",
       "    <tr>\n",
       "      <th>8521</th>\n",
       "      <td>FDN46</td>\n",
       "      <td>7.210</td>\n",
       "      <td>Regular</td>\n",
       "      <td>0.145221</td>\n",
       "      <td>Snack Foods</td>\n",
       "      <td>103.1332</td>\n",
       "      <td>OUT018</td>\n",
       "      <td>2009</td>\n",
       "      <td>Medium</td>\n",
       "      <td>Tier 3</td>\n",
       "      <td>Supermarket Type2</td>\n",
       "      <td>1845.5976</td>\n",
       "    </tr>\n",
       "    <tr>\n",
       "      <th>8522</th>\n",
       "      <td>DRG01</td>\n",
       "      <td>14.800</td>\n",
       "      <td>Low Fat</td>\n",
       "      <td>0.044878</td>\n",
       "      <td>Soft Drinks</td>\n",
       "      <td>75.4670</td>\n",
       "      <td>OUT046</td>\n",
       "      <td>1997</td>\n",
       "      <td>Small</td>\n",
       "      <td>Tier 1</td>\n",
       "      <td>Supermarket Type1</td>\n",
       "      <td>765.6700</td>\n",
       "    </tr>\n",
       "  </tbody>\n",
       "</table>\n",
       "<p>8523 rows × 12 columns</p>\n",
       "</div>"
      ],
      "text/plain": [
       "     Item_Identifier  Item_Weight  ...        Outlet_Type  Item_Outlet_Sales\n",
       "0              FDA15        9.300  ...  Supermarket Type1          3735.1380\n",
       "1              DRC01        5.920  ...  Supermarket Type2           443.4228\n",
       "2              FDN15       17.500  ...  Supermarket Type1          2097.2700\n",
       "3              FDX07       19.200  ...      Grocery Store           732.3800\n",
       "4              NCD19        8.930  ...  Supermarket Type1           994.7052\n",
       "...              ...          ...  ...                ...                ...\n",
       "8518           FDF22        6.865  ...  Supermarket Type1          2778.3834\n",
       "8519           FDS36        8.380  ...  Supermarket Type1           549.2850\n",
       "8520           NCJ29       10.600  ...  Supermarket Type1          1193.1136\n",
       "8521           FDN46        7.210  ...  Supermarket Type2          1845.5976\n",
       "8522           DRG01       14.800  ...  Supermarket Type1           765.6700\n",
       "\n",
       "[8523 rows x 12 columns]"
      ]
     },
     "execution_count": 4,
     "metadata": {},
     "output_type": "execute_result"
    }
   ],
   "source": [
    "filename='/content/sales_predictions.csv' # I uploaded the data from csv file to gogle collab notebook\n",
    "df=pd.read_csv(filename)  #Here is data below:\n",
    "df"
   ]
  },
  {
   "cell_type": "markdown",
   "metadata": {
    "id": "UNT7QIF9c4x3"
   },
   "source": [
    "Cleaning the data consists of several steps: duplicated values, data types( irrelevant data, dropping them if necessary), correcting, imputing"
   ]
  },
  {
   "cell_type": "code",
   "execution_count": 5,
   "metadata": {
    "colab": {
     "base_uri": "https://localhost:8080/"
    },
    "id": "MC0ViuZBaBkl",
    "outputId": "3a552f0d-a0ac-4296-d72c-1da5da1e1948"
   },
   "outputs": [
    {
     "data": {
      "text/plain": [
       "False"
      ]
     },
     "execution_count": 5,
     "metadata": {},
     "output_type": "execute_result"
    }
   ],
   "source": [
    "# First, I wanted to check if there are any duplicated values in the dataset\n",
    "df.duplicated().any()"
   ]
  },
  {
   "cell_type": "code",
   "execution_count": 6,
   "metadata": {
    "id": "zPAaztFSd50S"
   },
   "outputs": [],
   "source": [
    "# I got False result, it means there are any duplicated data in the dataset"
   ]
  },
  {
   "cell_type": "code",
   "execution_count": 7,
   "metadata": {
    "colab": {
     "base_uri": "https://localhost:8080/",
     "height": 69
    },
    "id": "OWOrar-xaDNG",
    "outputId": "5ff43214-5ab0-4c1b-b56d-2651cee32962"
   },
   "outputs": [
    {
     "data": {
      "text/html": [
       "<div>\n",
       "<style scoped>\n",
       "    .dataframe tbody tr th:only-of-type {\n",
       "        vertical-align: middle;\n",
       "    }\n",
       "\n",
       "    .dataframe tbody tr th {\n",
       "        vertical-align: top;\n",
       "    }\n",
       "\n",
       "    .dataframe thead th {\n",
       "        text-align: right;\n",
       "    }\n",
       "</style>\n",
       "<table border=\"1\" class=\"dataframe\">\n",
       "  <thead>\n",
       "    <tr style=\"text-align: right;\">\n",
       "      <th></th>\n",
       "      <th>Item_Identifier</th>\n",
       "      <th>Item_Weight</th>\n",
       "      <th>Item_Fat_Content</th>\n",
       "      <th>Item_Visibility</th>\n",
       "      <th>Item_Type</th>\n",
       "      <th>Item_MRP</th>\n",
       "      <th>Outlet_Identifier</th>\n",
       "      <th>Outlet_Establishment_Year</th>\n",
       "      <th>Outlet_Size</th>\n",
       "      <th>Outlet_Location_Type</th>\n",
       "      <th>Outlet_Type</th>\n",
       "      <th>Item_Outlet_Sales</th>\n",
       "    </tr>\n",
       "  </thead>\n",
       "  <tbody>\n",
       "  </tbody>\n",
       "</table>\n",
       "</div>"
      ],
      "text/plain": [
       "Empty DataFrame\n",
       "Columns: [Item_Identifier, Item_Weight, Item_Fat_Content, Item_Visibility, Item_Type, Item_MRP, Outlet_Identifier, Outlet_Establishment_Year, Outlet_Size, Outlet_Location_Type, Outlet_Type, Item_Outlet_Sales]\n",
       "Index: []"
      ]
     },
     "execution_count": 7,
     "metadata": {},
     "output_type": "execute_result"
    }
   ],
   "source": [
    "df[df.duplicated(keep = False)] # Used this algorithm to see which data is duplicated"
   ]
  },
  {
   "cell_type": "code",
   "execution_count": 8,
   "metadata": {
    "id": "OgzN-eVLeMwX"
   },
   "outputs": [],
   "source": [
    "#Anyway i used drop method to remove all the duplicated values"
   ]
  },
  {
   "cell_type": "code",
   "execution_count": 9,
   "metadata": {
    "id": "fbgqHybTaJ_g"
   },
   "outputs": [],
   "source": [
    "df.drop_duplicates(inplace = True)"
   ]
  },
  {
   "cell_type": "code",
   "execution_count": 10,
   "metadata": {
    "colab": {
     "base_uri": "https://localhost:8080/"
    },
    "id": "hmtALDbQaPXG",
    "outputId": "6f31e32a-8a7e-48f0-bfe1-aa2bbcef9cae"
   },
   "outputs": [
    {
     "data": {
      "text/plain": [
       "False"
      ]
     },
     "execution_count": 10,
     "metadata": {},
     "output_type": "execute_result"
    }
   ],
   "source": [
    "#  I made sure that there are no duplicated values in my data\n",
    "df.duplicated().any()"
   ]
  },
  {
   "cell_type": "code",
   "execution_count": 11,
   "metadata": {
    "colab": {
     "base_uri": "https://localhost:8080/"
    },
    "id": "bjWzePs-aZvX",
    "outputId": "30feb02f-08f1-4849-9906-e09d06b23a6d"
   },
   "outputs": [
    {
     "data": {
      "text/plain": [
       "Item_Identifier               object\n",
       "Item_Weight                  float64\n",
       "Item_Fat_Content              object\n",
       "Item_Visibility              float64\n",
       "Item_Type                     object\n",
       "Item_MRP                     float64\n",
       "Outlet_Identifier             object\n",
       "Outlet_Establishment_Year      int64\n",
       "Outlet_Size                   object\n",
       "Outlet_Location_Type          object\n",
       "Outlet_Type                   object\n",
       "Item_Outlet_Sales            float64\n",
       "dtype: object"
      ]
     },
     "execution_count": 11,
     "metadata": {},
     "output_type": "execute_result"
    }
   ],
   "source": [
    "# Checked data types in the dataset\n",
    "df.dtypes"
   ]
  },
  {
   "cell_type": "code",
   "execution_count": 12,
   "metadata": {
    "colab": {
     "base_uri": "https://localhost:8080/"
    },
    "id": "kxtgXl-0au5u",
    "outputId": "1a402531-23be-475f-d498-5f083f64f710"
   },
   "outputs": [
    {
     "data": {
      "text/plain": [
       "FDW13    10\n",
       "FDG33    10\n",
       "NCJ30     9\n",
       "FDW26     9\n",
       "FDP25     9\n",
       "         ..\n",
       "DRF48     1\n",
       "FDQ60     1\n",
       "FDO33     1\n",
       "FDK57     1\n",
       "FDT35     1\n",
       "Name: Item_Identifier, Length: 1559, dtype: int64"
      ]
     },
     "execution_count": 12,
     "metadata": {},
     "output_type": "execute_result"
    }
   ],
   "source": [
    "# I checked every column data types to look for any values \n",
    "#that look weird/should be interpreted as the same things!\n",
    "\n",
    "df['Item_Identifier'].value_counts()\n"
   ]
  },
  {
   "cell_type": "code",
   "execution_count": 13,
   "metadata": {
    "id": "SZ42FkXSfHKG"
   },
   "outputs": [],
   "source": [
    "#From 1st column I can see that everything is neat"
   ]
  },
  {
   "cell_type": "code",
   "execution_count": 14,
   "metadata": {
    "colab": {
     "base_uri": "https://localhost:8080/"
    },
    "id": "gJ4DgzdCbAuN",
    "outputId": "242dd6e3-d763-49a2-e498-feb267a5752e"
   },
   "outputs": [
    {
     "data": {
      "text/plain": [
       "12.150    86\n",
       "17.600    82\n",
       "13.650    77\n",
       "11.800    76\n",
       "15.100    68\n",
       "          ..\n",
       "7.560      2\n",
       "9.420      1\n",
       "5.400      1\n",
       "6.520      1\n",
       "7.685      1\n",
       "Name: Item_Weight, Length: 415, dtype: int64"
      ]
     },
     "execution_count": 14,
     "metadata": {},
     "output_type": "execute_result"
    }
   ],
   "source": [
    "df['Item_Weight'].value_counts() # Second column data types are also accurate"
   ]
  },
  {
   "cell_type": "code",
   "execution_count": 15,
   "metadata": {
    "colab": {
     "base_uri": "https://localhost:8080/"
    },
    "id": "q9yIVjD4bR3F",
    "outputId": "8f45c181-9748-4961-a742-065d02e5d44c"
   },
   "outputs": [
    {
     "data": {
      "text/plain": [
       "Low Fat    5089\n",
       "Regular    2889\n",
       "LF          316\n",
       "reg         117\n",
       "low fat     112\n",
       "Name: Item_Fat_Content, dtype: int64"
      ]
     },
     "execution_count": 15,
     "metadata": {},
     "output_type": "execute_result"
    }
   ],
   "source": [
    "df['Item_Fat_Content'].value_counts() \n",
    "# Third column data types have some values which are intrepeted differently but mean the same things"
   ]
  },
  {
   "cell_type": "code",
   "execution_count": 16,
   "metadata": {
    "colab": {
     "base_uri": "https://localhost:8080/"
    },
    "id": "tGXS9mHifx3o",
    "outputId": "05e450ae-3051-46ff-fcb5-f04422b89b2e"
   },
   "outputs": [
    {
     "data": {
      "text/plain": [
       "0.000000    526\n",
       "0.076975      3\n",
       "0.041283      2\n",
       "0.085622      2\n",
       "0.187841      2\n",
       "           ... \n",
       "0.092576      1\n",
       "0.067544      1\n",
       "0.115168      1\n",
       "0.146896      1\n",
       "0.050902      1\n",
       "Name: Item_Visibility, Length: 7880, dtype: int64"
      ]
     },
     "execution_count": 16,
     "metadata": {},
     "output_type": "execute_result"
    }
   ],
   "source": [
    "df['Item_Visibility'].value_counts() "
   ]
  },
  {
   "cell_type": "code",
   "execution_count": 17,
   "metadata": {
    "colab": {
     "base_uri": "https://localhost:8080/"
    },
    "id": "p0hZZnKTf98w",
    "outputId": "c8e220f8-e913-4d3b-ee58-a63d560e3c2e"
   },
   "outputs": [
    {
     "data": {
      "text/plain": [
       "Fruits and Vegetables    1232\n",
       "Snack Foods              1200\n",
       "Household                 910\n",
       "Frozen Foods              856\n",
       "Dairy                     682\n",
       "Canned                    649\n",
       "Baking Goods              648\n",
       "Health and Hygiene        520\n",
       "Soft Drinks               445\n",
       "Meat                      425\n",
       "Breads                    251\n",
       "Hard Drinks               214\n",
       "Others                    169\n",
       "Starchy Foods             148\n",
       "Breakfast                 110\n",
       "Seafood                    64\n",
       "Name: Item_Type, dtype: int64"
      ]
     },
     "execution_count": 17,
     "metadata": {},
     "output_type": "execute_result"
    }
   ],
   "source": [
    "df['Item_Type'].value_counts() "
   ]
  },
  {
   "cell_type": "code",
   "execution_count": 18,
   "metadata": {
    "colab": {
     "base_uri": "https://localhost:8080/"
    },
    "id": "ZfkQiw6KgLbz",
    "outputId": "b7faf9d8-e37d-42df-f0f7-d366a3025f98"
   },
   "outputs": [
    {
     "data": {
      "text/plain": [
       "172.0422    7\n",
       "188.1872    6\n",
       "170.5422    6\n",
       "109.5228    6\n",
       "196.5084    6\n",
       "           ..\n",
       "212.8218    1\n",
       "190.3872    1\n",
       "162.6868    1\n",
       "189.1214    1\n",
       "51.3008     1\n",
       "Name: Item_MRP, Length: 5938, dtype: int64"
      ]
     },
     "execution_count": 18,
     "metadata": {},
     "output_type": "execute_result"
    }
   ],
   "source": [
    "df['Item_MRP'].value_counts() "
   ]
  },
  {
   "cell_type": "code",
   "execution_count": 19,
   "metadata": {
    "colab": {
     "base_uri": "https://localhost:8080/"
    },
    "id": "0uyE2YZGgYjq",
    "outputId": "6d82b3f4-d88d-4a0f-e2b8-ae1851bce375"
   },
   "outputs": [
    {
     "data": {
      "text/plain": [
       "OUT027    935\n",
       "OUT013    932\n",
       "OUT035    930\n",
       "OUT046    930\n",
       "OUT049    930\n",
       "OUT045    929\n",
       "OUT018    928\n",
       "OUT017    926\n",
       "OUT010    555\n",
       "OUT019    528\n",
       "Name: Outlet_Identifier, dtype: int64"
      ]
     },
     "execution_count": 19,
     "metadata": {},
     "output_type": "execute_result"
    }
   ],
   "source": [
    "df['Outlet_Identifier'].value_counts()"
   ]
  },
  {
   "cell_type": "code",
   "execution_count": 20,
   "metadata": {
    "colab": {
     "base_uri": "https://localhost:8080/"
    },
    "id": "aDzVf8tYgnDu",
    "outputId": "c5f640e5-eab3-4855-fdf3-3a98faf842d2"
   },
   "outputs": [
    {
     "data": {
      "text/plain": [
       "1985    1463\n",
       "1987     932\n",
       "1999     930\n",
       "1997     930\n",
       "2004     930\n",
       "2002     929\n",
       "2009     928\n",
       "2007     926\n",
       "1998     555\n",
       "Name: Outlet_Establishment_Year, dtype: int64"
      ]
     },
     "execution_count": 20,
     "metadata": {},
     "output_type": "execute_result"
    }
   ],
   "source": [
    "df['Outlet_Establishment_Year'].value_counts()"
   ]
  },
  {
   "cell_type": "code",
   "execution_count": 21,
   "metadata": {
    "colab": {
     "base_uri": "https://localhost:8080/"
    },
    "id": "5ZjupcD8gy_4",
    "outputId": "86ff4017-a118-4e13-b45a-77c142da2848"
   },
   "outputs": [
    {
     "data": {
      "text/plain": [
       "Medium    2793\n",
       "Small     2388\n",
       "High       932\n",
       "Name: Outlet_Size, dtype: int64"
      ]
     },
     "execution_count": 21,
     "metadata": {},
     "output_type": "execute_result"
    }
   ],
   "source": [
    "df['Outlet_Size'].value_counts()"
   ]
  },
  {
   "cell_type": "code",
   "execution_count": 22,
   "metadata": {
    "colab": {
     "base_uri": "https://localhost:8080/"
    },
    "id": "39tx6uVFg6ya",
    "outputId": "499df3c7-15aa-4b09-e5c7-2d58eb9f6675"
   },
   "outputs": [
    {
     "data": {
      "text/plain": [
       "Tier 3    3350\n",
       "Tier 2    2785\n",
       "Tier 1    2388\n",
       "Name: Outlet_Location_Type, dtype: int64"
      ]
     },
     "execution_count": 22,
     "metadata": {},
     "output_type": "execute_result"
    }
   ],
   "source": [
    "df['Outlet_Location_Type'].value_counts()"
   ]
  },
  {
   "cell_type": "code",
   "execution_count": 23,
   "metadata": {
    "colab": {
     "base_uri": "https://localhost:8080/"
    },
    "id": "p8-wk2B7hCsJ",
    "outputId": "0ec201d4-8e0d-4983-dcf9-4bda77726b90"
   },
   "outputs": [
    {
     "data": {
      "text/plain": [
       "Supermarket Type1    5577\n",
       "Grocery Store        1083\n",
       "Supermarket Type3     935\n",
       "Supermarket Type2     928\n",
       "Name: Outlet_Type, dtype: int64"
      ]
     },
     "execution_count": 23,
     "metadata": {},
     "output_type": "execute_result"
    }
   ],
   "source": [
    "df['Outlet_Type'].value_counts()"
   ]
  },
  {
   "cell_type": "code",
   "execution_count": 24,
   "metadata": {
    "colab": {
     "base_uri": "https://localhost:8080/"
    },
    "id": "UOH9rGfzhMJG",
    "outputId": "9944a1dd-081f-46e7-b3d5-8dd6da0aa27d"
   },
   "outputs": [
    {
     "data": {
      "text/plain": [
       "958.7520     17\n",
       "1342.2528    16\n",
       "1845.5976    15\n",
       "703.0848     15\n",
       "1278.3360    14\n",
       "             ..\n",
       "3167.8764     1\n",
       "2226.4352     1\n",
       "1684.4740     1\n",
       "1574.6170     1\n",
       "6692.6216     1\n",
       "Name: Item_Outlet_Sales, Length: 3493, dtype: int64"
      ]
     },
     "execution_count": 24,
     "metadata": {},
     "output_type": "execute_result"
    }
   ],
   "source": [
    "df['Item_Outlet_Sales'].value_counts()"
   ]
  },
  {
   "cell_type": "markdown",
   "metadata": {
    "id": "-w8VQ0CXhaeq"
   },
   "source": [
    "Now, we clean the Item_Fat_Content column"
   ]
  },
  {
   "cell_type": "code",
   "execution_count": 25,
   "metadata": {
    "colab": {
     "base_uri": "https://localhost:8080/"
    },
    "id": "iWm7JAm--eNa",
    "outputId": "3ad453f7-5b4b-4bca-adff-99a1ba9c2fcd"
   },
   "outputs": [
    {
     "data": {
      "text/plain": [
       "Low Fat    5405\n",
       "Regular    2889\n",
       "reg         117\n",
       "low fat     112\n",
       "Name: Item_Fat_Content, dtype: int64"
      ]
     },
     "execution_count": 25,
     "metadata": {},
     "output_type": "execute_result"
    }
   ],
   "source": [
    "df.loc[df['Item_Fat_Content'] == 'LF', 'Item_Fat_Content'] = 'Low Fat'\n",
    "df['Item_Fat_Content'].value_counts()"
   ]
  },
  {
   "cell_type": "code",
   "execution_count": 26,
   "metadata": {
    "colab": {
     "base_uri": "https://localhost:8080/"
    },
    "id": "Y0R1pdLELCSi",
    "outputId": "e2decbfd-38b3-470d-f83c-ba4ae5bdebb4"
   },
   "outputs": [
    {
     "data": {
      "text/plain": [
       "Low Fat    5405\n",
       "Regular    3006\n",
       "low fat     112\n",
       "Name: Item_Fat_Content, dtype: int64"
      ]
     },
     "execution_count": 26,
     "metadata": {},
     "output_type": "execute_result"
    }
   ],
   "source": [
    "df.loc[df['Item_Fat_Content'] == 'reg', 'Item_Fat_Content'] = 'Regular'\n",
    "df['Item_Fat_Content'].value_counts()"
   ]
  },
  {
   "cell_type": "code",
   "execution_count": 27,
   "metadata": {
    "colab": {
     "base_uri": "https://localhost:8080/"
    },
    "id": "xnD47kwxLHj_",
    "outputId": "556606c8-b6f7-4a52-9a47-5622794317ea"
   },
   "outputs": [
    {
     "data": {
      "text/plain": [
       "Low Fat    5517\n",
       "Regular    3006\n",
       "Name: Item_Fat_Content, dtype: int64"
      ]
     },
     "execution_count": 27,
     "metadata": {},
     "output_type": "execute_result"
    }
   ],
   "source": [
    "df.loc[df['Item_Fat_Content'] == 'low fat', 'Item_Fat_Content'] = 'Low Fat'\n",
    "df['Item_Fat_Content'].value_counts()"
   ]
  },
  {
   "cell_type": "code",
   "execution_count": 28,
   "metadata": {
    "colab": {
     "base_uri": "https://localhost:8080/"
    },
    "id": "hLm1JZtxLs14",
    "outputId": "7149c837-6831-46f2-82e2-8546065fcfee"
   },
   "outputs": [
    {
     "data": {
      "text/plain": [
       "Item_Identifier                 0\n",
       "Item_Weight                  1463\n",
       "Item_Fat_Content                0\n",
       "Item_Visibility                 0\n",
       "Item_Type                       0\n",
       "Item_MRP                        0\n",
       "Outlet_Identifier               0\n",
       "Outlet_Establishment_Year       0\n",
       "Outlet_Size                  2410\n",
       "Outlet_Location_Type            0\n",
       "Outlet_Type                     0\n",
       "Item_Outlet_Sales               0\n",
       "dtype: int64"
      ]
     },
     "execution_count": 28,
     "metadata": {},
     "output_type": "execute_result"
    }
   ],
   "source": [
    "df.isnull().sum() "
   ]
  },
  {
   "cell_type": "code",
   "execution_count": 29,
   "metadata": {
    "colab": {
     "base_uri": "https://localhost:8080/",
     "height": 309
    },
    "id": "4lkTCTBDMHL5",
    "outputId": "5b23dfd7-1168-443f-adc1-c4e7a665e35d"
   },
   "outputs": [
    {
     "data": {
      "text/html": [
       "<div>\n",
       "<style scoped>\n",
       "    .dataframe tbody tr th:only-of-type {\n",
       "        vertical-align: middle;\n",
       "    }\n",
       "\n",
       "    .dataframe tbody tr th {\n",
       "        vertical-align: top;\n",
       "    }\n",
       "\n",
       "    .dataframe thead th {\n",
       "        text-align: right;\n",
       "    }\n",
       "</style>\n",
       "<table border=\"1\" class=\"dataframe\">\n",
       "  <thead>\n",
       "    <tr style=\"text-align: right;\">\n",
       "      <th></th>\n",
       "      <th>Item_Identifier</th>\n",
       "      <th>Item_Fat_Content</th>\n",
       "      <th>Item_Visibility</th>\n",
       "      <th>Item_Type</th>\n",
       "      <th>Item_MRP</th>\n",
       "      <th>Outlet_Identifier</th>\n",
       "      <th>Outlet_Establishment_Year</th>\n",
       "      <th>Outlet_Location_Type</th>\n",
       "      <th>Outlet_Type</th>\n",
       "      <th>Item_Outlet_Sales</th>\n",
       "    </tr>\n",
       "  </thead>\n",
       "  <tbody>\n",
       "    <tr>\n",
       "      <th>0</th>\n",
       "      <td>FDA15</td>\n",
       "      <td>Low Fat</td>\n",
       "      <td>0.016047</td>\n",
       "      <td>Dairy</td>\n",
       "      <td>249.8092</td>\n",
       "      <td>OUT049</td>\n",
       "      <td>1999</td>\n",
       "      <td>Tier 1</td>\n",
       "      <td>Supermarket Type1</td>\n",
       "      <td>3735.1380</td>\n",
       "    </tr>\n",
       "    <tr>\n",
       "      <th>1</th>\n",
       "      <td>DRC01</td>\n",
       "      <td>Regular</td>\n",
       "      <td>0.019278</td>\n",
       "      <td>Soft Drinks</td>\n",
       "      <td>48.2692</td>\n",
       "      <td>OUT018</td>\n",
       "      <td>2009</td>\n",
       "      <td>Tier 3</td>\n",
       "      <td>Supermarket Type2</td>\n",
       "      <td>443.4228</td>\n",
       "    </tr>\n",
       "    <tr>\n",
       "      <th>2</th>\n",
       "      <td>FDN15</td>\n",
       "      <td>Low Fat</td>\n",
       "      <td>0.016760</td>\n",
       "      <td>Meat</td>\n",
       "      <td>141.6180</td>\n",
       "      <td>OUT049</td>\n",
       "      <td>1999</td>\n",
       "      <td>Tier 1</td>\n",
       "      <td>Supermarket Type1</td>\n",
       "      <td>2097.2700</td>\n",
       "    </tr>\n",
       "    <tr>\n",
       "      <th>3</th>\n",
       "      <td>FDX07</td>\n",
       "      <td>Regular</td>\n",
       "      <td>0.000000</td>\n",
       "      <td>Fruits and Vegetables</td>\n",
       "      <td>182.0950</td>\n",
       "      <td>OUT010</td>\n",
       "      <td>1998</td>\n",
       "      <td>Tier 3</td>\n",
       "      <td>Grocery Store</td>\n",
       "      <td>732.3800</td>\n",
       "    </tr>\n",
       "    <tr>\n",
       "      <th>4</th>\n",
       "      <td>NCD19</td>\n",
       "      <td>Low Fat</td>\n",
       "      <td>0.000000</td>\n",
       "      <td>Household</td>\n",
       "      <td>53.8614</td>\n",
       "      <td>OUT013</td>\n",
       "      <td>1987</td>\n",
       "      <td>Tier 3</td>\n",
       "      <td>Supermarket Type1</td>\n",
       "      <td>994.7052</td>\n",
       "    </tr>\n",
       "  </tbody>\n",
       "</table>\n",
       "</div>"
      ],
      "text/plain": [
       "  Item_Identifier Item_Fat_Content  ...        Outlet_Type Item_Outlet_Sales\n",
       "0           FDA15          Low Fat  ...  Supermarket Type1         3735.1380\n",
       "1           DRC01          Regular  ...  Supermarket Type2          443.4228\n",
       "2           FDN15          Low Fat  ...  Supermarket Type1         2097.2700\n",
       "3           FDX07          Regular  ...      Grocery Store          732.3800\n",
       "4           NCD19          Low Fat  ...  Supermarket Type1          994.7052\n",
       "\n",
       "[5 rows x 10 columns]"
      ]
     },
     "execution_count": 29,
     "metadata": {},
     "output_type": "execute_result"
    }
   ],
   "source": [
    "df.drop(columns = ['Item_Weight', 'Outlet_Size'], inplace = True)\n",
    "df.head()"
   ]
  },
  {
   "cell_type": "code",
   "execution_count": 30,
   "metadata": {
    "colab": {
     "base_uri": "https://localhost:8080/"
    },
    "id": "v3s5LIwRN3C7",
    "outputId": "8643487e-b1e2-4f3d-c632-cc3b980f33b5"
   },
   "outputs": [
    {
     "data": {
      "text/plain": [
       "18591125.410399996"
      ]
     },
     "execution_count": 30,
     "metadata": {},
     "output_type": "execute_result"
    }
   ],
   "source": [
    "#total amount of money we got from the sales\n",
    "df['Item_Outlet_Sales'].sum() "
   ]
  },
  {
   "cell_type": "code",
   "execution_count": 31,
   "metadata": {
    "colab": {
     "base_uri": "https://localhost:8080/"
    },
    "id": "O3VEj3dYPdju",
    "outputId": "c547a118-6dee-442a-8c27-872afd66fa65"
   },
   "outputs": [
    {
     "data": {
      "text/plain": [
       "Outlet_Type\n",
       "Grocery Store         1775.6886\n",
       "Supermarket Type1    10256.6490\n",
       "Supermarket Type2     6768.5228\n",
       "Supermarket Type3    13086.9648\n",
       "Name: Item_Outlet_Sales, dtype: float64"
      ]
     },
     "execution_count": 31,
     "metadata": {},
     "output_type": "execute_result"
    }
   ],
   "source": [
    "\n",
    "df.groupby('Outlet_Type')['Item_Outlet_Sales'].max() # which outlet type made more money"
   ]
  },
  {
   "cell_type": "markdown",
   "metadata": {
    "id": "Sm39S5P9jepf"
   },
   "source": [
    "**Part 3 **\n"
   ]
  },
  {
   "cell_type": "code",
   "execution_count": 32,
   "metadata": {
    "id": "F1OfrifFlVDT"
   },
   "outputs": [],
   "source": [
    "# First thing we need to do is importing matplot and seaborn libraries to our notebook, because these help us \n",
    "#to plot some histograms, boxplots, and heatmap of the correlation"
   ]
  },
  {
   "cell_type": "code",
   "execution_count": 33,
   "metadata": {
    "id": "ZnbBQHxulBuf"
   },
   "outputs": [],
   "source": [
    "import matplotlib.pyplot as plt\n",
    "import seaborn as sns\n",
    "import pandas as pd\n",
    "import numpy as np\n",
    "\n"
   ]
  },
  {
   "cell_type": "code",
   "execution_count": 34,
   "metadata": {
    "id": "x1oeh8NZl0ir"
   },
   "outputs": [],
   "source": [
    "# After that, i am going to start by plotting the boxplots to see the distributions of various features in your dataset"
   ]
  },
  {
   "cell_type": "markdown",
   "metadata": {
    "id": "BilqeORUpcfD"
   },
   "source": [
    "The next boxplot i wanted to plot is going to be plot by using the seaborn library. This boxplot is about comparing item types by their Maximum Retail Price(MRP)#by the way, i googled what MRP stands for"
   ]
  },
  {
   "cell_type": "code",
   "execution_count": 35,
   "metadata": {
    "colab": {
     "base_uri": "https://localhost:8080/",
     "height": 830
    },
    "id": "nzT4oJfAoWyY",
    "outputId": "0522f9c0-045b-4c05-d17f-b07eb5c07d76"
   },
   "outputs": [
    {
     "data": {
      "image/png": "[encoded data removed]",
      "text/plain": [
       "<Figure size 1440x1440 with 1 Axes>"
      ]
     },
     "metadata": {
      "needs_background": "light"
     },
     "output_type": "display_data"
    }
   ],
   "source": [
    "\n",
    "\n",
    "fig, ax = plt.subplots(figsize=(20, 20))\n",
    "#df = fig.add_subplot(111)\n",
    "sns.boxplot(x='Item_Type', y='Item_MRP',data=df)\n",
    "plt.show() \n",
    "\n"
   ]
  },
  {
   "cell_type": "markdown",
   "metadata": {
    "id": "UbD0A10HcwMe"
   },
   "source": [
    "Conclusions:\n",
    "1.Dairy, Health and Hygiene,Canned Items have the same highest maximum retail price\n",
    "2. Soft Drinks, Breads have the same lowest retail price out of alll items\n",
    "3. Starchy Foods has the higher mean retail price than other items\n",
    "4. Health and Hygiene Item has the outlier value, it means it was sold considerably more expensive than other items at some point\n",
    "\n",
    "\n",
    "\n"
   ]
  },
  {
   "cell_type": "code",
   "execution_count": 36,
   "metadata": {
    "colab": {
     "base_uri": "https://localhost:8080/",
     "height": 319
    },
    "id": "18ipIEZQpACf",
    "outputId": "28c3b055-9eba-4c26-8f87-7a47ac00cfed"
   },
   "outputs": [
    {
     "name": "stderr",
     "output_type": "stream",
     "text": [
      "/usr/local/lib/python3.7/dist-packages/numpy/core/_asarray.py:83: VisibleDeprecationWarning: Creating an ndarray from ragged nested sequences (which is a list-or-tuple of lists-or-tuples-or ndarrays with different lengths or shapes) is deprecated. If you meant to do this, you must specify 'dtype=object' when creating the ndarray\n",
      "  return array(a, dtype, copy=False, order=order)\n"
     ]
    },
    {
     "data": {
      "image/png": "[encoded data removed]",
      "text/plain": [
       "<Figure size 432x288 with 1 Axes>"
      ]
     },
     "metadata": {
      "needs_background": "light"
     },
     "output_type": "display_data"
    }
   ],
   "source": [
    "Low = df.loc[df['Item_Fat_Content'] =='Low Fat', 'Item_Outlet_Sales']\n",
    "Regular = df.loc[df['Item_Fat_Content'] == 'Regular', 'Item_Outlet_Sales']\n",
    "fig = plt.figure();\n",
    "df1=df\n",
    "df1 = fig.add_subplot(111)\n",
    "df1.boxplot([Low,Regular], notch=True, labels=['L', 'R']);"
   ]
  },
  {
   "cell_type": "markdown",
   "metadata": {
    "id": "P4_niNiCpTZC"
   },
   "source": [
    "In this boxplot i used simple plotting method to infer some data on outlet sales of items by the fat content of items(low and regular)\n",
    "**Conclusions:**\n",
    "1)  low fat items' outlet sales minimum value almost same with regular fat items' outlet sales minimum value.We can infer that low and regular fat content items were sold same at the minimum price\n",
    "\n",
    "2) low fat items' outlet sales maximum value less than the regular fat items' outlet sales maximum value. We can infer that the outlet sales price for regular fat content items was slightly higher than the oulet sales price for low fat content items\n",
    "\n",
    "3)I can also notice that there are some outliers, which are out of the range of values.Low fat content items' maximum outlier value surpasses the regular fat content items' maximum outlier value. \n",
    "I can conclude that there are some low fat content items were sold at the extremely high price than the other items in the dataset\n",
    "\n",
    "4)I can't see any minimum outlier values in both items, it therefore means that minumim values in both items fall into quartile range"
   ]
  },
  {
   "cell_type": "code",
   "execution_count": 37,
   "metadata": {
    "colab": {
     "base_uri": "https://localhost:8080/",
     "height": 402
    },
    "id": "_UXIW6AOqanA",
    "outputId": "988c1420-4d18-4d63-d061-72871cb6835c"
   },
   "outputs": [
    {
     "name": "stderr",
     "output_type": "stream",
     "text": [
      "/usr/local/lib/python3.7/dist-packages/numpy/core/_asarray.py:83: VisibleDeprecationWarning: Creating an ndarray from ragged nested sequences (which is a list-or-tuple of lists-or-tuples-or ndarrays with different lengths or shapes) is deprecated. If you meant to do this, you must specify 'dtype=object' when creating the ndarray\n",
      "  return array(a, dtype, copy=False, order=order)\n"
     ]
    },
    {
     "data": {
      "image/png": "[encoded data removed]",
      "text/plain": [
       "<Figure size 864x360 with 1 Axes>"
      ]
     },
     "metadata": {
      "needs_background": "light"
     },
     "output_type": "display_data"
    }
   ],
   "source": [
    "Low = df.loc[df['Item_Fat_Content']=='Low Fat','Item_MRP']\n",
    "Regular = df.loc[df['Item_Fat_Content']=='Regular','Item_MRP']\n",
    "fig, axes = plt.subplots(nrows = 1, ncols = 1, figsize = (12,5))\n",
    "boxplots = axes.boxplot([Low,Regular],\n",
    "           notch = True,\n",
    "           labels=['L', 'R'],\n",
    "           widths = .7,\n",
    "           patch_artist=True,\n",
    "           medianprops = dict(linestyle='-', linewidth=2, color='Yellow'),\n",
    "           boxprops = dict(linestyle='--', linewidth=2, color='Black', facecolor = 'blue', alpha = .4));\n",
    "# The more you understand any library, the more you can do\n",
    "boxplot1 = boxplots['boxes'][0]\n",
    "boxplot1.set_facecolor('red')\n",
    "plt.xlabel('Item_Fat_Content', fontsize = 20);\n",
    "plt.ylabel('Item_MRP', fontsize = 20);\n",
    "plt.xticks(fontsize = 16);\n",
    "plt.yticks(fontsize = 16);\n",
    "\n"
   ]
  },
  {
   "cell_type": "markdown",
   "metadata": {
    "id": "zq_YtyM4epox"
   },
   "source": [
    "Conclusions:\n",
    "1. Low fat items have same mean retail price with regular fat items' mean retail price\n",
    "2.Their maximum and minimum values are identical\n",
    "3.There are no outliers"
   ]
  },
  {
   "cell_type": "markdown",
   "metadata": {
    "id": "uRZF5H8afMc-"
   },
   "source": [
    " **Histograms**\n",
    " "
   ]
  },
  {
   "cell_type": "code",
   "execution_count": 38,
   "metadata": {
    "colab": {
     "base_uri": "https://localhost:8080/",
     "height": 276
    },
    "id": "5_2VCEz3fRmo",
    "outputId": "cc0ac6fc-5ae0-4442-c05b-7b47c470f495"
   },
   "outputs": [
    {
     "data": {
      "image/png": "[encoded data removed]",
      "text/plain": [
       "<Figure size 432x288 with 1 Axes>"
      ]
     },
     "metadata": {
      "needs_background": "light"
     },
     "output_type": "display_data"
    }
   ],
   "source": [
    "\n",
    "df['Item_MRP'].hist()\n",
    "plt.xticks(rotation = 45)\n",
    "plt.ticklabel_format(useOffset=False, style='plain')\n",
    "\n"
   ]
  },
  {
   "cell_type": "markdown",
   "metadata": {
    "id": "wrBjAV_6Vche"
   },
   "source": [
    "Conclusions:\n",
    "1.This histogram has a Multi-Modal Distribution which means, the values are varied differently and can affect the outcome\n",
    "\n",
    "2.We can see lower-limit is between 0-50 and upper-limit is between 250-300\n",
    "\n",
    "3.Variability of Items Median Retail Price is average\n",
    "\n",
    "4.There are no outlier, which could show data entry errors\n",
    "\n",
    "5.Approximate range-(275-25)=250"
   ]
  },
  {
   "cell_type": "code",
   "execution_count": 39,
   "metadata": {
    "colab": {
     "base_uri": "https://localhost:8080/",
     "height": 285
    },
    "id": "QxEeCKG5pB6A",
    "outputId": "cbd8b952-dcd6-4c98-dcb1-aa4253254ff4"
   },
   "outputs": [
    {
     "data": {
      "image/png": "[encoded data removed]",
      "text/plain": [
       "<Figure size 432x288 with 1 Axes>"
      ]
     },
     "metadata": {
      "needs_background": "light"
     },
     "output_type": "display_data"
    }
   ],
   "source": [
    "# visualizing a subset of the data, making more bins, and visualizing a subset of data\n",
    "# this was just to explore the data\n",
    "\n",
    "\n",
    "df['Item_Outlet_Sales'].hist(bins = 30, edgecolor='black');\n",
    "plt.xticks(rotation = 45)\n",
    "plt.ticklabel_format(useOffset=False, style='plain')\n",
    "\n"
   ]
  },
  {
   "cell_type": "markdown",
   "metadata": {
    "id": "li5epoa0TY18"
   },
   "source": [
    "Conclusions:\n",
    "1.This histogram has Skewed Distributions,because they are skewed from Left to Right direction\n",
    "\n",
    "2.We can see the lower-limit starts from 0 and upper-limit ends by between 8000-10000\n",
    "\n",
    "3.Variability of Items Outlet Sales is moderate\n",
    "\n",
    "4.There are no outlier, which could show data \n",
    "entry errors\n",
    "\n",
    "5.Approximate range-(9500-1150)=8350"
   ]
  },
  {
   "cell_type": "code",
   "execution_count": 40,
   "metadata": {
    "colab": {
     "base_uri": "https://localhost:8080/",
     "height": 300
    },
    "id": "UHkOMp1rvmZs",
    "outputId": "852151e7-d654-430d-c1bf-23ecf2935319"
   },
   "outputs": [
    {
     "data": {
      "text/plain": [
       "<matplotlib.legend.Legend at 0x7f6f20cd46d0>"
      ]
     },
     "execution_count": 40,
     "metadata": {},
     "output_type": "execute_result"
    },
    {
     "data": {
      "image/png": "[encoded data removed]",
      "text/plain": [
       "<Figure size 432x288 with 1 Axes>"
      ]
     },
     "metadata": {
      "needs_background": "light"
     },
     "output_type": "display_data"
    }
   ],
   "source": [
    "retail = df['Item_MRP']\n",
    "outlet = df['Item_Outlet_Sales']\n",
    "plt.xlabel(\"Price\", size=14)\n",
    "plt.ylabel(\"Count\", size=14)\n",
    "# plotting first histogram\n",
    "plt.hist(retail,bins=40, label='Retail price', alpha=0.8, edgecolor='blue')\n",
    "\n",
    "# plotting second histogram\n",
    "plt.hist(outlet,bins=40, label='Outlet price', alpha=0.7, edgecolor='yellow')\n",
    "plt.legend()"
   ]
  },
  {
   "cell_type": "markdown",
   "metadata": {
    "id": "OnBhQvOMaKer"
   },
   "source": [
    "Conclusions:\n",
    "1.As we can see two variables are plotted in the same histogram, and they differ from each other\n",
    "2.The retail price frenquency range fall into the range of outlet price's frequency range\n",
    "3.Outler price's distribution is greater than retail price's distribution\n",
    "4. Standard deviation is lower in outlet sales than in the retail price"
   ]
  },
  {
   "cell_type": "markdown",
   "metadata": {
    "id": "Ml7TqFzFuLrE"
   },
   "source": [
    "**Correlation**"
   ]
  },
  {
   "cell_type": "code",
   "execution_count": 41,
   "metadata": {
    "colab": {
     "base_uri": "https://localhost:8080/",
     "height": 409
    },
    "id": "Xnd5f4dDuRix",
    "outputId": "0ffd1f2a-e123-4873-d730-6f8efd08343d"
   },
   "outputs": [
    {
     "data": {
      "text/plain": [
       "<matplotlib.axes._subplots.AxesSubplot at 0x7f6f20b3f8d0>"
      ]
     },
     "execution_count": 41,
     "metadata": {},
     "output_type": "execute_result"
    },
    {
     "data": {
      "image/png": "[encoded data removed]",
      "text/plain": [
       "<Figure size 432x288 with 2 Axes>"
      ]
     },
     "metadata": {
      "needs_background": "light"
     },
     "output_type": "display_data"
    }
   ],
   "source": [
    "import seaborn as sns\n",
    "corr = df.corr()\n",
    "sns.heatmap(corr, cmap = 'Greens')"
   ]
  },
  {
   "cell_type": "markdown",
   "metadata": {
    "id": "bNrkJTVVbnEK"
   },
   "source": [
    "Conclusions:\n",
    "1.I plotted the heatmap of the correlation by using seaborn library\n",
    "\n",
    "2.This heatmap shows **Strong Negative Correlation **between the variables\n",
    "\n",
    "3.The diagonals are all 1/dark green because those squares are correlating each variable to itself (so it's a **perfect correlation**)\n",
    "\n",
    "4.The plot is also symmetrical about the diagonal since the same two variables are being paired together in those squares.\n"
   ]
  },
  {
   "cell_type": "code",
   "execution_count": 42,
   "metadata": {
    "colab": {
     "base_uri": "https://localhost:8080/",
     "height": 347
    },
    "id": "LlN2gmlIyG1c",
    "outputId": "8c4527cb-f458-44e8-9d4f-a61ff3da58c3"
   },
   "outputs": [
    {
     "data": {
      "image/png": "[encoded data removed]",
      "text/plain": [
       "<Figure size 1152x432 with 2 Axes>"
      ]
     },
     "metadata": {
      "needs_background": "light"
     },
     "output_type": "display_data"
    }
   ],
   "source": [
    "# Increase the size of the heatmap.\n",
    "plt.figure(figsize=(16, 6))\n",
    "# Store heatmap object in a variable to easily access it when you want to include more features (such as title).\n",
    "# Set the range of values to be displayed on the colormap from -1 to 1, and set the annotation to True to display the correlation values on the heatmap.\n",
    "heatmap = sns.heatmap(df.corr(), vmin=-1, vmax=1, annot=True)\n",
    "# Give a title to the heatmap. Pad defines the distance of the title from the top of the heatmap.\n",
    "heatmap.set_title('Correlation Heatmap', fontdict={'fontsize':12}, pad=12);"
   ]
  },
  {
   "cell_type": "markdown",
   "metadata": {
    "id": "M4coJqa1eujz"
   },
   "source": [
    "Correlation:\n",
    "1.This heatmap are easy to notice than previous one because it has real numbers\n",
    "\n",
    "2.The correlation between Outlet_Establishment_Year and Item_MRP is low, almost close to 0, it means there is mot much relationship between these two variables\n",
    "\n",
    "3.The correlation between Item_Oulet_Sales and Item_MRP is moderate, almost close to 0.5, it means there is postive relationship between these two variables\n",
    "\n"
   ]
  },
  {
   "cell_type": "markdown",
   "metadata": {
    "id": "C77w6DoghoSz"
   },
   "source": [
    "**The following heatmap shows the correlation by removing the perfect correlation**"
   ]
  },
  {
   "cell_type": "code",
   "execution_count": 43,
   "metadata": {
    "colab": {
     "base_uri": "https://localhost:8080/",
     "height": 354
    },
    "id": "MW4QG0PLyfdg",
    "outputId": "8f7f7c35-3500-4bcf-dbea-e4d7edb877bd"
   },
   "outputs": [
    {
     "data": {
      "image/png": "[encoded data removed]",
      "text/plain": [
       "<Figure size 1152x432 with 2 Axes>"
      ]
     },
     "metadata": {
      "needs_background": "light"
     },
     "output_type": "display_data"
    }
   ],
   "source": [
    "plt.figure(figsize=(16, 6))\n",
    "# define the mask to set the values in the upper triangle to True\n",
    "mask = np.triu(np.ones_like(df.corr(), dtype=np.bool))\n",
    "heatmap = sns.heatmap(df.corr(), mask=mask, vmin=-1, vmax=1, annot=True, cmap='BrBG')\n",
    "heatmap.set_title('Triangle Correlation Heatmap', fontdict={'fontsize':18}, pad=16);"
   ]
  },
  {
   "cell_type": "markdown",
   "metadata": {
    "id": "ILuF36LUfeH_"
   },
   "source": [
    "\n",
    "\n",
    "The following heatmap returns the correlation of all features with ‘**Item_MRP**’, a single, dependent variable, sorted by ‘**Item_MRP**’ in a descending manner.\n"
   ]
  },
  {
   "cell_type": "markdown",
   "metadata": {
    "id": "mzlX_yaZxPqT"
   },
   "source": [
    "#*Part 3 *"
   ]
  },
  {
   "cell_type": "code",
   "execution_count": 44,
   "metadata": {
    "colab": {
     "base_uri": "https://localhost:8080/",
     "height": 731
    },
    "id": "1832SBBdy4U-",
    "outputId": "d1e3440b-9943-4c7c-ec81-744ad3550f59"
   },
   "outputs": [
    {
     "data": {
      "image/png": "[encoded data removed]",
      "text/plain": [
       "<Figure size 576x864 with 2 Axes>"
      ]
     },
     "metadata": {
      "needs_background": "light"
     },
     "output_type": "display_data"
    }
   ],
   "source": [
    "df.corr()[['Item_MRP']].sort_values(by='Item_MRP', ascending=False)\n",
    "plt.figure(figsize=(8, 12))\n",
    "heatmap = sns.heatmap(df.corr()[['Item_MRP']].sort_values(by='Item_MRP', ascending=False), vmin=-1, vmax=1, annot=True, cmap='BrBG')\n",
    "heatmap.set_title('Features Correlating with Item_MRP', fontdict={'fontsize':18}, pad=16);\n"
   ]
  },
  {
   "cell_type": "markdown",
   "metadata": {
    "id": "cL6lBu8_ftYE"
   },
   "source": [
    "It is easy to notice the relationship between other variables and Item_MRP in descending manner, and we can easily identify which one is strong relationship, and low relationship"
   ]
  },
  {
   "cell_type": "markdown",
   "metadata": {
    "id": "1iPgN1-lS9NM"
   },
   "source": [
    "Refernces for the heatmaps of correlation: https://medium.com/@szabo.bibor/how-to-create-a-seaborn-correlation-heatmap-in-python-834c0686b88e"
   ]
  },
  {
   "cell_type": "code",
   "execution_count": 45,
   "metadata": {
    "colab": {
     "base_uri": "https://localhost:8080/",
     "height": 564
    },
    "id": "8JEgd20HhXk7",
    "outputId": "a54787c2-b004-4e65-97ca-1205ba171e22"
   },
   "outputs": [
    {
     "data": {
      "image/png": "[encoded data removed]",
      "text/plain": [
       "<Figure size 2160x1440 with 1 Axes>"
      ]
     },
     "metadata": {
      "needs_background": "light"
     },
     "output_type": "display_data"
    }
   ],
   "source": [
    "fig, ax = plt.subplots(figsize=(30, 20))\n",
    "#df = fig.add_subplot(111)\n",
    "sns.boxplot(x='Item_Type', y='Item_Outlet_Sales',data=df)\n",
    "plt.show() "
   ]
  },
  {
   "cell_type": "markdown",
   "metadata": {
    "id": "74ywn2_ihq0Z"
   },
   "source": [
    "Output:1. I plotted the graph,which shows the relationship between the item type and outlet sales.It means we can identify which item makes the more money in sales\n",
    "\n",
    "2.As we can see Starchy Food, Dairy, Seafood are top sales making items\n",
    "\n",
    "3.There are some outliers, but still these three make the most average sales\n",
    "\n",
    "4.Maximum outlier is in Household items, which is greater than 12000, the second maximum outlier is in Fruit and Vegetables items, which is equal to 12000\n",
    "\n",
    "ALSO, in this dataset, we do not have information about frequency of sold items, so we can skip the outliers, and infer conclusions based on average value"
   ]
  },
  {
   "cell_type": "code",
   "execution_count": 46,
   "metadata": {
    "colab": {
     "base_uri": "https://localhost:8080/",
     "height": 325
    },
    "id": "uXnhtR-zjTWy",
    "outputId": "87a6ad58-edd6-41f6-a53d-3d7c90db0d41"
   },
   "outputs": [
    {
     "data": {
      "text/plain": [
       "<matplotlib.legend.Legend at 0x7f6f17e62c90>"
      ]
     },
     "execution_count": 46,
     "metadata": {},
     "output_type": "execute_result"
    },
    {
     "data": {
      "image/png": "[encoded data removed]",
      "text/plain": [
       "<Figure size 432x288 with 1 Axes>"
      ]
     },
     "metadata": {
      "needs_background": "light"
     },
     "output_type": "display_data"
    }
   ],
   "source": [
    "outlet_type = df['Outlet_Type']\n",
    "\n",
    "plt.xlabel('Outlet_Type', size=14)\n",
    "plt.ylabel('Item_Outlet_Sales', size=14)\n",
    "plt.hist( outlet_type, bins=5, label='Outlet',color='green', histtype='stepfilled', alpha=0.8, edgecolor='red');\n",
    "plt.grid(c='green',alpha = .9,\n",
    "         linestyle = '-')\n",
    "plt.title('Outlet Sales & Type', size=24);\n",
    "plt.legend(loc=\"center right\")"
   ]
  },
  {
   "cell_type": "markdown",
   "metadata": {
    "id": "E_1tTDearSnH"
   },
   "source": [
    "Output:1.In order to see the which oulet type made more item sales, i plotted the histogramm to visualize the picture\n",
    "\n",
    "2.As we can see the Supermarket 1 has made more enough sales than any other outlet types\n",
    "\n",
    "3.Supermarket 2,3 made the sales below 1000\n",
    "\n",
    "4.Grocery store made the sales just above 1000"
   ]
  },
  {
   "cell_type": "markdown",
   "metadata": {
    "id": "tct7xcNVaxLo"
   },
   "source": [
    "**Project Part 4**\n"
   ]
  },
  {
   "cell_type": "code",
   "execution_count": 47,
   "metadata": {
    "id": "UWwIHbQAcTBX"
   },
   "outputs": [],
   "source": [
    "import seaborn as sns\n",
    "import matplotlib.patches as mpatches"
   ]
  },
  {
   "cell_type": "code",
   "execution_count": 48,
   "metadata": {
    "colab": {
     "base_uri": "https://localhost:8080/",
     "height": 321
    },
    "id": "aJCKJzJ1a2zi",
    "outputId": "4b4578db-c460-44d9-d864-3ba897fb3af9"
   },
   "outputs": [
    {
     "data": {
      "text/plain": [
       "<matplotlib.legend.Legend at 0x7f6f17b82390>"
      ]
     },
     "execution_count": 48,
     "metadata": {},
     "output_type": "execute_result"
    },
    {
     "data": {
      "image/png": "[encoded data removed]",
      "text/plain": [
       "<Figure size 432x288 with 1 Axes>"
      ]
     },
     "metadata": {
      "needs_background": "light"
     },
     "output_type": "display_data"
    }
   ],
   "source": [
    "sns.lineplot(x='Item_MRP', y='Item_Outlet_Sales',data=df, hue='Item_Fat_Content', palette=['red','green'],n_boot=100);\n",
    "plt.title('Fat content sales',c='black',fontsize=18)\n",
    "plt.xlabel('Original item price',fontsize = 16)\n",
    "plt.ylabel('Item total sales',fontsize = 16)\n",
    "plt.style.use('classic')\n",
    "plt.grid(c = 'black', alpha = .9,linestyle = '-')\n",
    "red_patch = mpatches.Patch(color='red',label='low fat')\n",
    "green_patch=mpatches.Patch(color='green',label='regular')\n",
    "plt.legend(loc=(1.02,0),handles=[red_patch,green_patch])"
   ]
  },
  {
   "cell_type": "markdown",
   "metadata": {
    "id": "nI_yk76efgaE"
   },
   "source": [
    "Conclusion:\n",
    "1.Low fat items have the higher total outlet sales than any regular fat items\n",
    "\n",
    "2.When item price is expensive, the total outlet sales is higher too(it can be seen from the graph)\n",
    "Not much expensive items have the low total outlet sales\n",
    "\n",
    "3.Even if the some regular fat items are more expensive than some low fat items, the total sales from low items still exceed that more expensive regular fat content items\n",
    "\n",
    "4.Relationship between total outlet sales and original item price is positive, going up"
   ]
  },
  {
   "cell_type": "code",
   "execution_count": 49,
   "metadata": {
    "colab": {
     "base_uri": "https://localhost:8080/",
     "height": 495
    },
    "id": "gx9LW7yPhgoE",
    "outputId": "657e705c-eb82-4ddf-e873-465afab7e757"
   },
   "outputs": [
    {
     "data": {
      "text/plain": [
       "Text(0, 0.5, 'Item total sales')"
      ]
     },
     "execution_count": 49,
     "metadata": {},
     "output_type": "execute_result"
    },
    {
     "data": {
      "image/png": "[encoded data removed]",
      "text/plain": [
       "<Figure size 640x480 with 1 Axes>"
      ]
     },
     "metadata": {},
     "output_type": "display_data"
    }
   ],
   "source": [
    "sns.lineplot(x='Item_MRP', y='Item_Outlet_Sales',data=df, hue='Outlet_Type',n_boot=100);\n",
    "plt.legend(loc=(1.02,0))\n",
    "plt.title('Sales analysis based on supermarket types',c='black',fontsize=18)\n",
    "plt.xlabel('Original item price',fontsize = 16)\n",
    "plt.ylabel('Item total sales',fontsize = 16)"
   ]
  },
  {
   "cell_type": "markdown",
   "metadata": {
    "id": "7FAtiQ_jjdQw"
   },
   "source": [
    "Conclusion:\n",
    "1.Grocery store has the least expensive items, so the total sales is the lowest among other outlet types, have not reached 2000 dollar from one type\n",
    "\n",
    "2.Supermarket type 3 has expensive items, but the total outlet sales are super higher than any other supermarkets, even the cheap items were sold and made a lot of profit.For example, 50 dollar items have made almost 3000 profit in total, which is really impressing. The highest profit(almost 13k) was from items which were cost originally 200-250 dollars\n",
    "\n",
    "3.Supermarket type's total sales are also high enough, which is after Supermarket type-3's total sales.The most expensive items were over 250 dollar and they did make a high profit about 10000,which is considered profitable too\n",
    "\n",
    "4.Although, less expensive item in Supermarket 3 made a quite high profit than more expensive same item in Supermarket 1\n",
    "\n",
    "5.Overall, the relationship between the total outlet sales and item original price is positive proportional\n"
   ]
  },
  {
   "cell_type": "code",
   "execution_count": 50,
   "metadata": {
    "colab": {
     "base_uri": "https://localhost:8080/",
     "height": 309
    },
    "id": "WZvTBn9Z0wWo",
    "outputId": "39e800b7-70eb-45db-83a0-30862e127c0b"
   },
   "outputs": [
    {
     "data": {
      "text/html": [
       "<div>\n",
       "<style scoped>\n",
       "    .dataframe tbody tr th:only-of-type {\n",
       "        vertical-align: middle;\n",
       "    }\n",
       "\n",
       "    .dataframe tbody tr th {\n",
       "        vertical-align: top;\n",
       "    }\n",
       "\n",
       "    .dataframe thead th {\n",
       "        text-align: right;\n",
       "    }\n",
       "</style>\n",
       "<table border=\"1\" class=\"dataframe\">\n",
       "  <thead>\n",
       "    <tr style=\"text-align: right;\">\n",
       "      <th></th>\n",
       "      <th>Item_Identifier</th>\n",
       "      <th>Item_Fat_Content</th>\n",
       "      <th>Item_Visibility</th>\n",
       "      <th>Item_Type</th>\n",
       "      <th>Item_MRP</th>\n",
       "      <th>Outlet_Identifier</th>\n",
       "      <th>Outlet_Establishment_Year</th>\n",
       "      <th>Outlet_Location_Type</th>\n",
       "      <th>Outlet_Type</th>\n",
       "      <th>Item_Outlet_Sales</th>\n",
       "    </tr>\n",
       "  </thead>\n",
       "  <tbody>\n",
       "    <tr>\n",
       "      <th>0</th>\n",
       "      <td>FDA15</td>\n",
       "      <td>Low Fat</td>\n",
       "      <td>0.016047</td>\n",
       "      <td>Dairy</td>\n",
       "      <td>249.8092</td>\n",
       "      <td>OUT049</td>\n",
       "      <td>1999</td>\n",
       "      <td>Tier 1</td>\n",
       "      <td>Supermarket Type1</td>\n",
       "      <td>3735.1380</td>\n",
       "    </tr>\n",
       "    <tr>\n",
       "      <th>1</th>\n",
       "      <td>DRC01</td>\n",
       "      <td>Regular</td>\n",
       "      <td>0.019278</td>\n",
       "      <td>Soft Drinks</td>\n",
       "      <td>48.2692</td>\n",
       "      <td>OUT018</td>\n",
       "      <td>2009</td>\n",
       "      <td>Tier 3</td>\n",
       "      <td>Supermarket Type2</td>\n",
       "      <td>443.4228</td>\n",
       "    </tr>\n",
       "    <tr>\n",
       "      <th>2</th>\n",
       "      <td>FDN15</td>\n",
       "      <td>Low Fat</td>\n",
       "      <td>0.016760</td>\n",
       "      <td>Meat</td>\n",
       "      <td>141.6180</td>\n",
       "      <td>OUT049</td>\n",
       "      <td>1999</td>\n",
       "      <td>Tier 1</td>\n",
       "      <td>Supermarket Type1</td>\n",
       "      <td>2097.2700</td>\n",
       "    </tr>\n",
       "    <tr>\n",
       "      <th>3</th>\n",
       "      <td>FDX07</td>\n",
       "      <td>Regular</td>\n",
       "      <td>0.000000</td>\n",
       "      <td>Fruits and Vegetables</td>\n",
       "      <td>182.0950</td>\n",
       "      <td>OUT010</td>\n",
       "      <td>1998</td>\n",
       "      <td>Tier 3</td>\n",
       "      <td>Grocery Store</td>\n",
       "      <td>732.3800</td>\n",
       "    </tr>\n",
       "    <tr>\n",
       "      <th>4</th>\n",
       "      <td>NCD19</td>\n",
       "      <td>Low Fat</td>\n",
       "      <td>0.000000</td>\n",
       "      <td>Household</td>\n",
       "      <td>53.8614</td>\n",
       "      <td>OUT013</td>\n",
       "      <td>1987</td>\n",
       "      <td>Tier 3</td>\n",
       "      <td>Supermarket Type1</td>\n",
       "      <td>994.7052</td>\n",
       "    </tr>\n",
       "  </tbody>\n",
       "</table>\n",
       "</div>"
      ],
      "text/plain": [
       "  Item_Identifier Item_Fat_Content  ...        Outlet_Type Item_Outlet_Sales\n",
       "0           FDA15          Low Fat  ...  Supermarket Type1         3735.1380\n",
       "1           DRC01          Regular  ...  Supermarket Type2          443.4228\n",
       "2           FDN15          Low Fat  ...  Supermarket Type1         2097.2700\n",
       "3           FDX07          Regular  ...      Grocery Store          732.3800\n",
       "4           NCD19          Low Fat  ...  Supermarket Type1          994.7052\n",
       "\n",
       "[5 rows x 10 columns]"
      ]
     },
     "execution_count": 50,
     "metadata": {},
     "output_type": "execute_result"
    }
   ],
   "source": [
    "#Part 5\n",
    "df.head()"
   ]
  },
  {
   "cell_type": "code",
   "execution_count": 51,
   "metadata": {
    "id": "j0SbGGjb2Elp"
   },
   "outputs": [],
   "source": [
    "# change the categorical variables into numbers by using dummy function\n",
    "# impo# import linear regression model\n",
    "from sklearn.linear_model import LinearRegression\n",
    "# import regression metrics needed from sklearn\n",
    "from sklearn.metrics import r2_score, mean_absolute_error, mean_squared_error\n",
    "from sklearn.linear_model import LinearRegression\n",
    "# import regression metrics needed from sklearn\n",
    "from sklearn.metrics import r2_score, mean_absolute_error, mean_squared_error\n"
   ]
  },
  {
   "cell_type": "code",
   "execution_count": 52,
   "metadata": {
    "colab": {
     "base_uri": "https://localhost:8080/",
     "height": 609
    },
    "id": "EM5rXf0o-Uwa",
    "outputId": "eb04fa38-55d4-4ed1-ce6f-0114c1af22c1"
   },
   "outputs": [
    {
     "data": {
      "text/html": [
       "<div>\n",
       "<style scoped>\n",
       "    .dataframe tbody tr th:only-of-type {\n",
       "        vertical-align: middle;\n",
       "    }\n",
       "\n",
       "    .dataframe tbody tr th {\n",
       "        vertical-align: top;\n",
       "    }\n",
       "\n",
       "    .dataframe thead th {\n",
       "        text-align: right;\n",
       "    }\n",
       "</style>\n",
       "<table border=\"1\" class=\"dataframe\">\n",
       "  <thead>\n",
       "    <tr style=\"text-align: right;\">\n",
       "      <th></th>\n",
       "      <th>Item_Fat_Content</th>\n",
       "      <th>Item_Visibility</th>\n",
       "      <th>Item_Type</th>\n",
       "      <th>Item_MRP</th>\n",
       "      <th>Outlet_Location_Type</th>\n",
       "      <th>Outlet_Type</th>\n",
       "      <th>Item_Outlet_Sales</th>\n",
       "    </tr>\n",
       "  </thead>\n",
       "  <tbody>\n",
       "    <tr>\n",
       "      <th>0</th>\n",
       "      <td>Low Fat</td>\n",
       "      <td>0.016047</td>\n",
       "      <td>Dairy</td>\n",
       "      <td>249.8092</td>\n",
       "      <td>Tier 1</td>\n",
       "      <td>Supermarket Type1</td>\n",
       "      <td>3735.1380</td>\n",
       "    </tr>\n",
       "    <tr>\n",
       "      <th>1</th>\n",
       "      <td>Regular</td>\n",
       "      <td>0.019278</td>\n",
       "      <td>Soft Drinks</td>\n",
       "      <td>48.2692</td>\n",
       "      <td>Tier 3</td>\n",
       "      <td>Supermarket Type2</td>\n",
       "      <td>443.4228</td>\n",
       "    </tr>\n",
       "    <tr>\n",
       "      <th>2</th>\n",
       "      <td>Low Fat</td>\n",
       "      <td>0.016760</td>\n",
       "      <td>Meat</td>\n",
       "      <td>141.6180</td>\n",
       "      <td>Tier 1</td>\n",
       "      <td>Supermarket Type1</td>\n",
       "      <td>2097.2700</td>\n",
       "    </tr>\n",
       "    <tr>\n",
       "      <th>3</th>\n",
       "      <td>Regular</td>\n",
       "      <td>0.000000</td>\n",
       "      <td>Fruits and Vegetables</td>\n",
       "      <td>182.0950</td>\n",
       "      <td>Tier 3</td>\n",
       "      <td>Grocery Store</td>\n",
       "      <td>732.3800</td>\n",
       "    </tr>\n",
       "    <tr>\n",
       "      <th>4</th>\n",
       "      <td>Low Fat</td>\n",
       "      <td>0.000000</td>\n",
       "      <td>Household</td>\n",
       "      <td>53.8614</td>\n",
       "      <td>Tier 3</td>\n",
       "      <td>Supermarket Type1</td>\n",
       "      <td>994.7052</td>\n",
       "    </tr>\n",
       "    <tr>\n",
       "      <th>...</th>\n",
       "      <td>...</td>\n",
       "      <td>...</td>\n",
       "      <td>...</td>\n",
       "      <td>...</td>\n",
       "      <td>...</td>\n",
       "      <td>...</td>\n",
       "      <td>...</td>\n",
       "    </tr>\n",
       "    <tr>\n",
       "      <th>8518</th>\n",
       "      <td>Low Fat</td>\n",
       "      <td>0.056783</td>\n",
       "      <td>Snack Foods</td>\n",
       "      <td>214.5218</td>\n",
       "      <td>Tier 3</td>\n",
       "      <td>Supermarket Type1</td>\n",
       "      <td>2778.3834</td>\n",
       "    </tr>\n",
       "    <tr>\n",
       "      <th>8519</th>\n",
       "      <td>Regular</td>\n",
       "      <td>0.046982</td>\n",
       "      <td>Baking Goods</td>\n",
       "      <td>108.1570</td>\n",
       "      <td>Tier 2</td>\n",
       "      <td>Supermarket Type1</td>\n",
       "      <td>549.2850</td>\n",
       "    </tr>\n",
       "    <tr>\n",
       "      <th>8520</th>\n",
       "      <td>Low Fat</td>\n",
       "      <td>0.035186</td>\n",
       "      <td>Health and Hygiene</td>\n",
       "      <td>85.1224</td>\n",
       "      <td>Tier 2</td>\n",
       "      <td>Supermarket Type1</td>\n",
       "      <td>1193.1136</td>\n",
       "    </tr>\n",
       "    <tr>\n",
       "      <th>8521</th>\n",
       "      <td>Regular</td>\n",
       "      <td>0.145221</td>\n",
       "      <td>Snack Foods</td>\n",
       "      <td>103.1332</td>\n",
       "      <td>Tier 3</td>\n",
       "      <td>Supermarket Type2</td>\n",
       "      <td>1845.5976</td>\n",
       "    </tr>\n",
       "    <tr>\n",
       "      <th>8522</th>\n",
       "      <td>Low Fat</td>\n",
       "      <td>0.044878</td>\n",
       "      <td>Soft Drinks</td>\n",
       "      <td>75.4670</td>\n",
       "      <td>Tier 1</td>\n",
       "      <td>Supermarket Type1</td>\n",
       "      <td>765.6700</td>\n",
       "    </tr>\n",
       "  </tbody>\n",
       "</table>\n",
       "<p>8523 rows × 7 columns</p>\n",
       "</div>"
      ],
      "text/plain": [
       "     Item_Fat_Content  Item_Visibility  ...        Outlet_Type  Item_Outlet_Sales\n",
       "0             Low Fat         0.016047  ...  Supermarket Type1          3735.1380\n",
       "1             Regular         0.019278  ...  Supermarket Type2           443.4228\n",
       "2             Low Fat         0.016760  ...  Supermarket Type1          2097.2700\n",
       "3             Regular         0.000000  ...      Grocery Store           732.3800\n",
       "4             Low Fat         0.000000  ...  Supermarket Type1           994.7052\n",
       "...               ...              ...  ...                ...                ...\n",
       "8518          Low Fat         0.056783  ...  Supermarket Type1          2778.3834\n",
       "8519          Regular         0.046982  ...  Supermarket Type1           549.2850\n",
       "8520          Low Fat         0.035186  ...  Supermarket Type1          1193.1136\n",
       "8521          Regular         0.145221  ...  Supermarket Type2          1845.5976\n",
       "8522          Low Fat         0.044878  ...  Supermarket Type1           765.6700\n",
       "\n",
       "[8523 rows x 7 columns]"
      ]
     },
     "execution_count": 52,
     "metadata": {},
     "output_type": "execute_result"
    }
   ],
   "source": [
    "# i decided to drop some columns, cause i found them unnecessary to run in the model\n",
    "df.drop(columns=['Item_Identifier', 'Outlet_Identifier','Outlet_Establishment_Year'])"
   ]
  },
  {
   "cell_type": "code",
   "execution_count": 53,
   "metadata": {
    "colab": {
     "base_uri": "https://localhost:8080/",
     "height": 609
    },
    "id": "hjKeTm0lBQbO",
    "outputId": "aef3de9f-8451-43a8-94ce-ee9fd94473c0"
   },
   "outputs": [
    {
     "data": {
      "text/html": [
       "<div>\n",
       "<style scoped>\n",
       "    .dataframe tbody tr th:only-of-type {\n",
       "        vertical-align: middle;\n",
       "    }\n",
       "\n",
       "    .dataframe tbody tr th {\n",
       "        vertical-align: top;\n",
       "    }\n",
       "\n",
       "    .dataframe thead th {\n",
       "        text-align: right;\n",
       "    }\n",
       "</style>\n",
       "<table border=\"1\" class=\"dataframe\">\n",
       "  <thead>\n",
       "    <tr style=\"text-align: right;\">\n",
       "      <th></th>\n",
       "      <th>Item_Fat_Content</th>\n",
       "      <th>Item_Visibility</th>\n",
       "      <th>Item_Type</th>\n",
       "      <th>Item_MRP</th>\n",
       "      <th>Outlet_Location_Type</th>\n",
       "      <th>Outlet_Type</th>\n",
       "      <th>Item_Outlet_Sales</th>\n",
       "    </tr>\n",
       "  </thead>\n",
       "  <tbody>\n",
       "    <tr>\n",
       "      <th>0</th>\n",
       "      <td>Low Fat</td>\n",
       "      <td>0.016047</td>\n",
       "      <td>Dairy</td>\n",
       "      <td>249.8092</td>\n",
       "      <td>Tier 1</td>\n",
       "      <td>Supermarket Type1</td>\n",
       "      <td>3735.1380</td>\n",
       "    </tr>\n",
       "    <tr>\n",
       "      <th>1</th>\n",
       "      <td>Regular</td>\n",
       "      <td>0.019278</td>\n",
       "      <td>Soft Drinks</td>\n",
       "      <td>48.2692</td>\n",
       "      <td>Tier 3</td>\n",
       "      <td>Supermarket Type2</td>\n",
       "      <td>443.4228</td>\n",
       "    </tr>\n",
       "    <tr>\n",
       "      <th>2</th>\n",
       "      <td>Low Fat</td>\n",
       "      <td>0.016760</td>\n",
       "      <td>Meat</td>\n",
       "      <td>141.6180</td>\n",
       "      <td>Tier 1</td>\n",
       "      <td>Supermarket Type1</td>\n",
       "      <td>2097.2700</td>\n",
       "    </tr>\n",
       "    <tr>\n",
       "      <th>3</th>\n",
       "      <td>Regular</td>\n",
       "      <td>0.000000</td>\n",
       "      <td>Fruits and Vegetables</td>\n",
       "      <td>182.0950</td>\n",
       "      <td>Tier 3</td>\n",
       "      <td>Grocery Store</td>\n",
       "      <td>732.3800</td>\n",
       "    </tr>\n",
       "    <tr>\n",
       "      <th>4</th>\n",
       "      <td>Low Fat</td>\n",
       "      <td>0.000000</td>\n",
       "      <td>Household</td>\n",
       "      <td>53.8614</td>\n",
       "      <td>Tier 3</td>\n",
       "      <td>Supermarket Type1</td>\n",
       "      <td>994.7052</td>\n",
       "    </tr>\n",
       "    <tr>\n",
       "      <th>...</th>\n",
       "      <td>...</td>\n",
       "      <td>...</td>\n",
       "      <td>...</td>\n",
       "      <td>...</td>\n",
       "      <td>...</td>\n",
       "      <td>...</td>\n",
       "      <td>...</td>\n",
       "    </tr>\n",
       "    <tr>\n",
       "      <th>8518</th>\n",
       "      <td>Low Fat</td>\n",
       "      <td>0.056783</td>\n",
       "      <td>Snack Foods</td>\n",
       "      <td>214.5218</td>\n",
       "      <td>Tier 3</td>\n",
       "      <td>Supermarket Type1</td>\n",
       "      <td>2778.3834</td>\n",
       "    </tr>\n",
       "    <tr>\n",
       "      <th>8519</th>\n",
       "      <td>Regular</td>\n",
       "      <td>0.046982</td>\n",
       "      <td>Baking Goods</td>\n",
       "      <td>108.1570</td>\n",
       "      <td>Tier 2</td>\n",
       "      <td>Supermarket Type1</td>\n",
       "      <td>549.2850</td>\n",
       "    </tr>\n",
       "    <tr>\n",
       "      <th>8520</th>\n",
       "      <td>Low Fat</td>\n",
       "      <td>0.035186</td>\n",
       "      <td>Health and Hygiene</td>\n",
       "      <td>85.1224</td>\n",
       "      <td>Tier 2</td>\n",
       "      <td>Supermarket Type1</td>\n",
       "      <td>1193.1136</td>\n",
       "    </tr>\n",
       "    <tr>\n",
       "      <th>8521</th>\n",
       "      <td>Regular</td>\n",
       "      <td>0.145221</td>\n",
       "      <td>Snack Foods</td>\n",
       "      <td>103.1332</td>\n",
       "      <td>Tier 3</td>\n",
       "      <td>Supermarket Type2</td>\n",
       "      <td>1845.5976</td>\n",
       "    </tr>\n",
       "    <tr>\n",
       "      <th>8522</th>\n",
       "      <td>Low Fat</td>\n",
       "      <td>0.044878</td>\n",
       "      <td>Soft Drinks</td>\n",
       "      <td>75.4670</td>\n",
       "      <td>Tier 1</td>\n",
       "      <td>Supermarket Type1</td>\n",
       "      <td>765.6700</td>\n",
       "    </tr>\n",
       "  </tbody>\n",
       "</table>\n",
       "<p>8523 rows × 7 columns</p>\n",
       "</div>"
      ],
      "text/plain": [
       "     Item_Fat_Content  Item_Visibility  ...        Outlet_Type  Item_Outlet_Sales\n",
       "0             Low Fat         0.016047  ...  Supermarket Type1          3735.1380\n",
       "1             Regular         0.019278  ...  Supermarket Type2           443.4228\n",
       "2             Low Fat         0.016760  ...  Supermarket Type1          2097.2700\n",
       "3             Regular         0.000000  ...      Grocery Store           732.3800\n",
       "4             Low Fat         0.000000  ...  Supermarket Type1           994.7052\n",
       "...               ...              ...  ...                ...                ...\n",
       "8518          Low Fat         0.056783  ...  Supermarket Type1          2778.3834\n",
       "8519          Regular         0.046982  ...  Supermarket Type1           549.2850\n",
       "8520          Low Fat         0.035186  ...  Supermarket Type1          1193.1136\n",
       "8521          Regular         0.145221  ...  Supermarket Type2          1845.5976\n",
       "8522          Low Fat         0.044878  ...  Supermarket Type1           765.6700\n",
       "\n",
       "[8523 rows x 7 columns]"
      ]
     },
     "execution_count": 53,
     "metadata": {},
     "output_type": "execute_result"
    }
   ],
   "source": [
    "df.drop(columns=['Item_Identifier', 'Outlet_Identifier','Outlet_Establishment_Year'],inplace=True)\n",
    "df"
   ]
  },
  {
   "cell_type": "code",
   "execution_count": 54,
   "metadata": {
    "id": "WLuHH4K9BbVy"
   },
   "outputs": [],
   "source": [
    "# i used get dummy method to prepare the columns to run in the model\n",
    "df = pd.get_dummies(df, columns = ['Item_Type'], drop_first = True)"
   ]
  },
  {
   "cell_type": "code",
   "execution_count": 55,
   "metadata": {
    "id": "Y0epjOCiAYmS"
   },
   "outputs": [],
   "source": [
    "\n",
    "df = pd.get_dummies(df, columns = ['Item_Fat_Content'], drop_first = True)\n",
    "\n"
   ]
  },
  {
   "cell_type": "code",
   "execution_count": 56,
   "metadata": {
    "id": "6w2iVVOJBhIO"
   },
   "outputs": [],
   "source": [
    "df = pd.get_dummies(df, columns = ['Outlet_Location_Type'], drop_first = True)\n"
   ]
  },
  {
   "cell_type": "code",
   "execution_count": 57,
   "metadata": {
    "id": "xxtArAWwBjgT"
   },
   "outputs": [],
   "source": [
    "df = pd.get_dummies(df, columns = ['Outlet_Type'], drop_first = True)"
   ]
  },
  {
   "cell_type": "code",
   "execution_count": 58,
   "metadata": {
    "id": "2NXWpj5YC-Yy"
   },
   "outputs": [],
   "source": [
    "# i arranged my features and target values\n",
    "y = df['Item_Outlet_Sales']\n",
    "X = df.drop(columns = 'Item_Outlet_Sales')"
   ]
  },
  {
   "cell_type": "markdown",
   "metadata": {
    "id": "7q2vEtb5pe2u"
   },
   "source": [
    "Before stepping into the running different models to improve my model, i would like to introduce the 4 essential models:\n",
    "Regression model, Simple Decision Tree, Bagging Tree model, RandomForest model"
   ]
  },
  {
   "cell_type": "code",
   "execution_count": 58,
   "metadata": {
    "id": "zlY_h8tYp6cX"
   },
   "outputs": [],
   "source": []
  },
  {
   "cell_type": "markdown",
   "metadata": {
    "id": "LsLLh4K4pbyp"
   },
   "source": [
    "Regression model"
   ]
  },
  {
   "cell_type": "code",
   "execution_count": 59,
   "metadata": {
    "id": "SjR-pqVSZEmo"
   },
   "outputs": [],
   "source": [
    "from sklearn.model_selection import train_test_split\n",
    "# Train test split\n",
    "X_train, X_test, y_train, y_test = train_test_split(X, y, random_state=42)"
   ]
  },
  {
   "cell_type": "code",
   "execution_count": 60,
   "metadata": {
    "colab": {
     "base_uri": "https://localhost:8080/"
    },
    "id": "snZfuDghZLap",
    "outputId": "1f6d2a49-f2cc-4484-f041-aeab79f24e8a"
   },
   "outputs": [
    {
     "data": {
      "text/plain": [
       "LinearRegression(copy_X=True, fit_intercept=True, n_jobs=None, normalize=False)"
      ]
     },
     "execution_count": 60,
     "metadata": {},
     "output_type": "execute_result"
    }
   ],
   "source": [
    "from sklearn.linear_model import LinearRegression\n",
    "reg = LinearRegression()\n",
    "reg.fit(X_train,y_train)"
   ]
  },
  {
   "cell_type": "code",
   "execution_count": 61,
   "metadata": {
    "colab": {
     "base_uri": "https://localhost:8080/"
    },
    "id": "WcmL0EluZWi5",
    "outputId": "8ed66e29-2cc9-4d23-bed0-cf4402810853"
   },
   "outputs": [
    {
     "name": "stdout",
     "output_type": "stream",
     "text": [
      "0.5605433358643774\n"
     ]
    }
   ],
   "source": [
    "train_score = reg.score(X_train, y_train)\n",
    "print(train_score)"
   ]
  },
  {
   "cell_type": "code",
   "execution_count": 62,
   "metadata": {
    "colab": {
     "base_uri": "https://localhost:8080/"
    },
    "id": "F0fz8SEKZjUh",
    "outputId": "c81913f4-8162-4d25-a5eb-a52d21eeef38"
   },
   "outputs": [
    {
     "name": "stdout",
     "output_type": "stream",
     "text": [
      "0.56584713187009\n"
     ]
    }
   ],
   "source": [
    "test_score = reg.score(X_test, y_test)\n",
    "print(test_score)"
   ]
  },
  {
   "cell_type": "code",
   "execution_count": 63,
   "metadata": {
    "id": "Y6W-mWFvyBxs"
   },
   "outputs": [],
   "source": [
    "#Based on regression model, we can see that the model is just right, cause values are close"
   ]
  },
  {
   "cell_type": "code",
   "execution_count": 64,
   "metadata": {
    "colab": {
     "base_uri": "https://localhost:8080/"
    },
    "id": "EXz5udBUaRMU",
    "outputId": "7bd6121c-2de7-4e90-ca74-5d53b4278d9e"
   },
   "outputs": [
    {
     "data": {
      "text/plain": [
       "1274865.860875234"
      ]
     },
     "execution_count": 64,
     "metadata": {},
     "output_type": "execute_result"
    }
   ],
   "source": [
    "preds=reg.predict(X)\n",
    "mean_squared_error(y, preds)"
   ]
  },
  {
   "cell_type": "code",
   "execution_count": 65,
   "metadata": {
    "colab": {
     "base_uri": "https://localhost:8080/"
    },
    "id": "9GMh-bFXqjO2",
    "outputId": "2a76b41c-cb91-4861-b0a3-afcb547bbde6"
   },
   "outputs": [
    {
     "data": {
      "text/plain": [
       "1129.0995796984578"
      ]
     },
     "execution_count": 65,
     "metadata": {},
     "output_type": "execute_result"
    }
   ],
   "source": [
    "np.sqrt(mean_squared_error(y, preds))"
   ]
  },
  {
   "cell_type": "markdown",
   "metadata": {
    "id": "uBzgTjkUhLvz"
   },
   "source": [
    "Simple decision tree model"
   ]
  },
  {
   "cell_type": "code",
   "execution_count": 66,
   "metadata": {
    "id": "51cJhXG4hRsc"
   },
   "outputs": [],
   "source": [
    "import matplotlib.pyplot as plt\n",
    "import pandas as pd\n",
    "from sklearn.model_selection import train_test_split\n",
    "from sklearn.tree import DecisionTreeRegressor\n",
    "\n"
   ]
  },
  {
   "cell_type": "code",
   "execution_count": 67,
   "metadata": {
    "id": "hygwugfciJhx"
   },
   "outputs": [],
   "source": [
    "dec_tree = DecisionTreeRegressor(random_state = 42)"
   ]
  },
  {
   "cell_type": "code",
   "execution_count": 68,
   "metadata": {
    "colab": {
     "base_uri": "https://localhost:8080/"
    },
    "id": "jNj1vrYBiZQr",
    "outputId": "60fd787c-c924-4315-aa7d-25d23c92d3df"
   },
   "outputs": [
    {
     "data": {
      "text/plain": [
       "DecisionTreeRegressor(ccp_alpha=0.0, criterion='mse', max_depth=None,\n",
       "                      max_features=None, max_leaf_nodes=None,\n",
       "                      min_impurity_decrease=0.0, min_impurity_split=None,\n",
       "                      min_samples_leaf=1, min_samples_split=2,\n",
       "                      min_weight_fraction_leaf=0.0, presort='deprecated',\n",
       "                      random_state=42, splitter='best')"
      ]
     },
     "execution_count": 68,
     "metadata": {},
     "output_type": "execute_result"
    }
   ],
   "source": [
    "dec_tree.fit(X_train, y_train)"
   ]
  },
  {
   "cell_type": "code",
   "execution_count": 69,
   "metadata": {
    "id": "cCLOObmwjKzu"
   },
   "outputs": [],
   "source": [
    "train_preds = dec_tree.predict(X_train)\n",
    "test_preds = dec_tree.predict(X_test)"
   ]
  },
  {
   "cell_type": "code",
   "execution_count": 70,
   "metadata": {
    "colab": {
     "base_uri": "https://localhost:8080/"
    },
    "id": "3NiYTLsOjPH5",
    "outputId": "9cabc3a5-ad9f-48e3-bcb8-bb873a182b5c"
   },
   "outputs": [
    {
     "name": "stdout",
     "output_type": "stream",
     "text": [
      "1.0\n",
      "0.18889176540372155\n"
     ]
    }
   ],
   "source": [
    "train_score = dec_tree.score(X_train, y_train)\n",
    "test_score = dec_tree.score(X_test, y_test)\n",
    "print(train_score)\n",
    "print(test_score)"
   ]
  },
  {
   "cell_type": "code",
   "execution_count": 71,
   "metadata": {
    "colab": {
     "base_uri": "https://localhost:8080/"
    },
    "id": "J51vWfZpja6-",
    "outputId": "48a6cd0a-5709-4db2-f628-b803e4e7d265"
   },
   "outputs": [
    {
     "data": {
      "text/plain": [
       "DecisionTreeRegressor(ccp_alpha=0.0, criterion='mse', max_depth=None,\n",
       "                      max_features=None, max_leaf_nodes=None,\n",
       "                      min_impurity_decrease=0.0, min_impurity_split=None,\n",
       "                      min_samples_leaf=1, min_samples_split=2,\n",
       "                      min_weight_fraction_leaf=0.0, presort='deprecated',\n",
       "                      random_state=42, splitter='best')"
      ]
     },
     "execution_count": 71,
     "metadata": {},
     "output_type": "execute_result"
    }
   ],
   "source": [
    "dec_tree"
   ]
  },
  {
   "cell_type": "code",
   "execution_count": 72,
   "metadata": {
    "colab": {
     "base_uri": "https://localhost:8080/"
    },
    "id": "DyPa-N9Kjc2r",
    "outputId": "133841b0-d93c-43f9-d8e4-cc5b4aa90cf8"
   },
   "outputs": [
    {
     "data": {
      "text/plain": [
       "39"
      ]
     },
     "execution_count": 72,
     "metadata": {},
     "output_type": "execute_result"
    }
   ],
   "source": [
    "dec_tree.get_depth()"
   ]
  },
  {
   "cell_type": "code",
   "execution_count": 73,
   "metadata": {
    "colab": {
     "base_uri": "https://localhost:8080/"
    },
    "id": "iQGN6YpCjgTp",
    "outputId": "c5be59c5-bc4d-44c1-cf78-cf070191a08c"
   },
   "outputs": [
    {
     "data": {
      "text/plain": [
       "6233"
      ]
     },
     "execution_count": 73,
     "metadata": {},
     "output_type": "execute_result"
    }
   ],
   "source": [
    "dec_tree.get_n_leaves()"
   ]
  },
  {
   "cell_type": "code",
   "execution_count": 74,
   "metadata": {
    "colab": {
     "base_uri": "https://localhost:8080/"
    },
    "id": "5S-BWbWgjjdf",
    "outputId": "6b7d52f0-36d8-483b-d206-5c3db677a883"
   },
   "outputs": [
    {
     "name": "stdout",
     "output_type": "stream",
     "text": [
      "0.3568735198093891\n",
      "0.3465043845499205\n"
     ]
    }
   ],
   "source": [
    "dec_tree_2 = DecisionTreeRegressor(max_depth = 2, random_state = 42)\n",
    "dec_tree_2.fit(X_train, y_train)\n",
    "train_2_score = dec_tree_2.score(X_train, y_train)\n",
    "test_2_score = dec_tree_2.score(X_test, y_test)\n",
    "print(train_2_score)\n",
    "print(test_2_score)"
   ]
  },
  {
   "cell_type": "code",
   "execution_count": 75,
   "metadata": {
    "colab": {
     "base_uri": "https://localhost:8080/"
    },
    "id": "ocUe-wsKjrXt",
    "outputId": "e986adf1-b0b5-42b8-fbcf-589ddfdfb175"
   },
   "outputs": [
    {
     "name": "stdout",
     "output_type": "stream",
     "text": [
      "0.8503205877754199\n",
      "0.3455301069755108\n"
     ]
    }
   ],
   "source": [
    "dec_tree_15 = DecisionTreeRegressor(max_depth = 15, random_state = 42)\n",
    "dec_tree_15.fit(X_train, y_train)\n",
    "train_15_score = dec_tree_15.score(X_train, y_train)\n",
    "test_15_score = dec_tree_15.score(X_test, y_test)\n",
    "print(train_15_score)\n",
    "print(test_15_score)"
   ]
  },
  {
   "cell_type": "code",
   "execution_count": 76,
   "metadata": {
    "id": "RibKHkIRjvBF"
   },
   "outputs": [],
   "source": [
    "# List of values to try for max_depth:\n",
    "max_depth_range = list(range(2, 36)) # will try every value between 2 and 36\n",
    "# List to store the score for each value of max_depth:\n",
    "r2 = []\n",
    "for depth in max_depth_range:\n",
    "    dec_tree = DecisionTreeRegressor(max_depth = depth, \n",
    "                             random_state = 42)\n",
    "    dec_tree.fit(X_train, y_train)\n",
    "    score = dec_tree.score(X_test, y_test)\n",
    "    r2.append(score)"
   ]
  },
  {
   "cell_type": "code",
   "execution_count": 77,
   "metadata": {
    "colab": {
     "base_uri": "https://localhost:8080/",
     "height": 459
    },
    "id": "5M0JuolFj36R",
    "outputId": "8b345c50-3f5f-46b3-f74d-bfe2a59dcea3"
   },
   "outputs": [
    {
     "data": {
      "image/png": "[encoded data removed]",
      "text/plain": [
       "<Figure size 640x480 with 1 Axes>"
      ]
     },
     "metadata": {},
     "output_type": "display_data"
    }
   ],
   "source": [
    "# Visualize which max_depth leads to the highest r2 score\n",
    "import matplotlib.pyplot as plt\n",
    "plt.plot(max_depth_range, r2)\n",
    "plt.xlabel('max_depth')\n",
    "plt.ylabel('R2');"
   ]
  },
  {
   "cell_type": "code",
   "execution_count": 78,
   "metadata": {
    "colab": {
     "base_uri": "https://localhost:8080/"
    },
    "id": "_CdwQjVLkAwY",
    "outputId": "3620cbc3-c19b-411a-895f-3d4c0d52ebc8"
   },
   "outputs": [
    {
     "name": "stdout",
     "output_type": "stream",
     "text": [
      "0.612057803720431\n",
      "0.5856983281382546\n"
     ]
    }
   ],
   "source": [
    "# Let's run the model with our optimized value for max_depth\n",
    "dec_tree_5 = DecisionTreeRegressor(max_depth = 5, random_state = 42)\n",
    "dec_tree_5.fit(X_train, y_train)\n",
    "train_5_score = dec_tree_5.score(X_train, y_train)\n",
    "test_5_score = dec_tree_5.score(X_test, y_test)\n",
    "print(train_5_score)\n",
    "print(test_5_score)"
   ]
  },
  {
   "cell_type": "code",
   "execution_count": 79,
   "metadata": {
    "colab": {
     "base_uri": "https://localhost:8080/"
    },
    "id": "y2h6GHUNs_B8",
    "outputId": "cdd4106e-fbd4-40ec-a0bd-e50ada1b06a6"
   },
   "outputs": [
    {
     "data": {
      "text/plain": [
       "754.6485849563102"
      ]
     },
     "execution_count": 79,
     "metadata": {},
     "output_type": "execute_result"
    }
   ],
   "source": [
    "preds=dec_tree.predict(X)\n",
    "mean_squared_error(y, preds)\n",
    "np.sqrt(mean_squared_error(y, preds))"
   ]
  },
  {
   "cell_type": "markdown",
   "metadata": {
    "id": "10Fu2aD3kTF2"
   },
   "source": [
    "Bagged trees"
   ]
  },
  {
   "cell_type": "code",
   "execution_count": 80,
   "metadata": {
    "id": "b4RsDs5JkXU9"
   },
   "outputs": [],
   "source": [
    "import matplotlib.pyplot as plt\n",
    "import pandas as pd\n",
    "from sklearn.model_selection import train_test_split\n",
    "# Import the bagging regressor\n",
    "from sklearn.ensemble import BaggingRegressor"
   ]
  },
  {
   "cell_type": "code",
   "execution_count": 81,
   "metadata": {
    "id": "-fmX-SN5kdfs"
   },
   "outputs": [],
   "source": [
    "X_train, X_test, y_train, y_test = train_test_split(X, y, random_state=42)"
   ]
  },
  {
   "cell_type": "code",
   "execution_count": 82,
   "metadata": {
    "id": "NTlQbc5wkhgL"
   },
   "outputs": [],
   "source": [
    "bagreg = BaggingRegressor(random_state = 42)"
   ]
  },
  {
   "cell_type": "code",
   "execution_count": 83,
   "metadata": {
    "colab": {
     "base_uri": "https://localhost:8080/"
    },
    "id": "MAJlSrHtkk4q",
    "outputId": "72a3e025-b23c-4e32-8af3-be854a84845a"
   },
   "outputs": [
    {
     "data": {
      "text/plain": [
       "BaggingRegressor(base_estimator=None, bootstrap=True, bootstrap_features=False,\n",
       "                 max_features=1.0, max_samples=1.0, n_estimators=10,\n",
       "                 n_jobs=None, oob_score=False, random_state=42, verbose=0,\n",
       "                 warm_start=False)"
      ]
     },
     "execution_count": 83,
     "metadata": {},
     "output_type": "execute_result"
    }
   ],
   "source": [
    "bagreg"
   ]
  },
  {
   "cell_type": "code",
   "execution_count": 84,
   "metadata": {
    "colab": {
     "base_uri": "https://localhost:8080/"
    },
    "id": "BWHzrIOvkqkh",
    "outputId": "9f2d1472-dd47-4474-d83d-4ae3db31a936"
   },
   "outputs": [
    {
     "data": {
      "text/plain": [
       "BaggingRegressor(base_estimator=None, bootstrap=True, bootstrap_features=False,\n",
       "                 max_features=1.0, max_samples=1.0, n_estimators=10,\n",
       "                 n_jobs=None, oob_score=False, random_state=42, verbose=0,\n",
       "                 warm_start=False)"
      ]
     },
     "execution_count": 84,
     "metadata": {},
     "output_type": "execute_result"
    }
   ],
   "source": [
    "bagreg.fit(X_train, y_train)"
   ]
  },
  {
   "cell_type": "code",
   "execution_count": 85,
   "metadata": {
    "colab": {
     "base_uri": "https://localhost:8080/"
    },
    "id": "e7I1dC9Xks2j",
    "outputId": "9808478c-c7dd-4bda-cadf-44d70f06914a"
   },
   "outputs": [
    {
     "data": {
      "text/plain": [
       "array([ 844.30098,  895.96706,  845.36626, ..., 4338.15306, 2072.9683 ,\n",
       "       2798.49056])"
      ]
     },
     "execution_count": 85,
     "metadata": {},
     "output_type": "execute_result"
    }
   ],
   "source": [
    "bagreg.predict(X_test)"
   ]
  },
  {
   "cell_type": "code",
   "execution_count": 86,
   "metadata": {
    "colab": {
     "base_uri": "https://localhost:8080/"
    },
    "id": "pk-0RGEkkzDx",
    "outputId": "8cc5b0f6-6974-4371-e7f1-350cefa622ff"
   },
   "outputs": [
    {
     "name": "stdout",
     "output_type": "stream",
     "text": [
      "0.9156809027042985\n",
      "0.5118664666331767\n"
     ]
    }
   ],
   "source": [
    "bagreg_train_score = bagreg.score(X_train, y_train)\n",
    "bagreg_test_score = bagreg.score(X_test, y_test)\n",
    "print(bagreg_train_score)\n",
    "print(bagreg_test_score)"
   ]
  },
  {
   "cell_type": "code",
   "execution_count": 87,
   "metadata": {
    "colab": {
     "base_uri": "https://localhost:8080/"
    },
    "id": "HlLb4T9ltKf2",
    "outputId": "db44fbdb-abc6-4fb9-b834-c282d8b3daba"
   },
   "outputs": [
    {
     "data": {
      "text/plain": [
       "723.7910554369008"
      ]
     },
     "execution_count": 87,
     "metadata": {},
     "output_type": "execute_result"
    }
   ],
   "source": [
    "preds=bagreg.predict(X)\n",
    "mean_squared_error(y, preds)\n",
    "np.sqrt(mean_squared_error(y, preds))"
   ]
  },
  {
   "cell_type": "markdown",
   "metadata": {
    "id": "UowfPQAUlBes"
   },
   "source": [
    "Random Forests"
   ]
  },
  {
   "cell_type": "code",
   "execution_count": 88,
   "metadata": {
    "id": "TYI1X5-9k_60"
   },
   "outputs": [],
   "source": [
    "import matplotlib.pyplot as plt\n",
    "import pandas as pd\n",
    "from sklearn.model_selection import train_test_split\n",
    "# Import random forest Regressor\n",
    "from sklearn.ensemble import RandomForestRegressor"
   ]
  },
  {
   "cell_type": "code",
   "execution_count": 89,
   "metadata": {
    "id": "iD39Ba8WlEo9"
   },
   "outputs": [],
   "source": [
    "rf = RandomForestRegressor(random_state = 42)"
   ]
  },
  {
   "cell_type": "code",
   "execution_count": 90,
   "metadata": {
    "colab": {
     "base_uri": "https://localhost:8080/"
    },
    "id": "V4SDcnF4lJmM",
    "outputId": "f5d8b1c3-80b2-4efc-91c9-f694f5880617"
   },
   "outputs": [
    {
     "data": {
      "text/plain": [
       "RandomForestRegressor(bootstrap=True, ccp_alpha=0.0, criterion='mse',\n",
       "                      max_depth=None, max_features='auto', max_leaf_nodes=None,\n",
       "                      max_samples=None, min_impurity_decrease=0.0,\n",
       "                      min_impurity_split=None, min_samples_leaf=1,\n",
       "                      min_samples_split=2, min_weight_fraction_leaf=0.0,\n",
       "                      n_estimators=100, n_jobs=None, oob_score=False,\n",
       "                      random_state=42, verbose=0, warm_start=False)"
      ]
     },
     "execution_count": 90,
     "metadata": {},
     "output_type": "execute_result"
    }
   ],
   "source": [
    "rf"
   ]
  },
  {
   "cell_type": "code",
   "execution_count": 91,
   "metadata": {
    "colab": {
     "base_uri": "https://localhost:8080/"
    },
    "id": "mQhXKYcrlM5X",
    "outputId": "9b45c2df-ea9c-4ebb-ea38-2f73a1bce6bd"
   },
   "outputs": [
    {
     "data": {
      "text/plain": [
       "RandomForestRegressor(bootstrap=True, ccp_alpha=0.0, criterion='mse',\n",
       "                      max_depth=None, max_features='auto', max_leaf_nodes=None,\n",
       "                      max_samples=None, min_impurity_decrease=0.0,\n",
       "                      min_impurity_split=None, min_samples_leaf=1,\n",
       "                      min_samples_split=2, min_weight_fraction_leaf=0.0,\n",
       "                      n_estimators=100, n_jobs=None, oob_score=False,\n",
       "                      random_state=42, verbose=0, warm_start=False)"
      ]
     },
     "execution_count": 91,
     "metadata": {},
     "output_type": "execute_result"
    }
   ],
   "source": [
    "rf.fit(X_train, y_train)"
   ]
  },
  {
   "cell_type": "code",
   "execution_count": 92,
   "metadata": {
    "colab": {
     "base_uri": "https://localhost:8080/"
    },
    "id": "lhJZHhUBlXBg",
    "outputId": "99d824b2-ab98-4695-dfb4-15a1aa65ed4c"
   },
   "outputs": [
    {
     "data": {
      "text/plain": [
       "array([ 804.013422,  932.273134,  810.964374, ..., 4934.117298,\n",
       "       1990.87516 , 2598.377712])"
      ]
     },
     "execution_count": 92,
     "metadata": {},
     "output_type": "execute_result"
    }
   ],
   "source": [
    "rf.predict(X_test)"
   ]
  },
  {
   "cell_type": "code",
   "execution_count": 93,
   "metadata": {
    "colab": {
     "base_uri": "https://localhost:8080/"
    },
    "id": "A9ZbBPGAlZ6q",
    "outputId": "ad455f0e-5f0b-4cfc-efde-9debd341f53f"
   },
   "outputs": [
    {
     "name": "stdout",
     "output_type": "stream",
     "text": [
      "0.935481819544618\n",
      "0.5377623179835678\n"
     ]
    }
   ],
   "source": [
    "rf_train_score = rf.score(X_train, y_train)\n",
    "rf_test_score = rf.score(X_test, y_test)\n",
    "print(rf_train_score)\n",
    "print(rf_test_score)"
   ]
  },
  {
   "cell_type": "code",
   "execution_count": 94,
   "metadata": {
    "colab": {
     "base_uri": "https://localhost:8080/"
    },
    "id": "DzkfVdkeldjQ",
    "outputId": "aecaa0e4-afc9-495d-96c2-f0b3cc37fa59"
   },
   "outputs": [
    {
     "name": "stdout",
     "output_type": "stream",
     "text": [
      "0.6197824181410091\n",
      "0.6024992329552207\n"
     ]
    }
   ],
   "source": [
    "rf_5 = RandomForestRegressor(max_depth = 5, random_state = 42)\n",
    "rf_5.fit(X_train, y_train)\n",
    "rf_5_train_score = rf_5.score(X_train, y_train)\n",
    "rf_5_test_score = rf_5.score(X_test, y_test)\n",
    "print(rf_5_train_score)\n",
    "print(rf_5_test_score)"
   ]
  },
  {
   "cell_type": "code",
   "execution_count": 95,
   "metadata": {
    "colab": {
     "base_uri": "https://localhost:8080/"
    },
    "id": "D2qLpT_7luO8",
    "outputId": "344fc2a9-894c-4f27-a12e-5a8b2d959abb"
   },
   "outputs": [
    {
     "data": {
      "text/plain": [
       "[39,\n",
       " 38,\n",
       " 33,\n",
       " 35,\n",
       " 32,\n",
       " 30,\n",
       " 33,\n",
       " 38,\n",
       " 39,\n",
       " 32,\n",
       " 30,\n",
       " 33,\n",
       " 39,\n",
       " 38,\n",
       " 34,\n",
       " 38,\n",
       " 32,\n",
       " 34,\n",
       " 34,\n",
       " 37,\n",
       " 33,\n",
       " 31,\n",
       " 33,\n",
       " 32,\n",
       " 35,\n",
       " 42,\n",
       " 34,\n",
       " 35,\n",
       " 32,\n",
       " 34,\n",
       " 35,\n",
       " 30,\n",
       " 31,\n",
       " 31,\n",
       " 35,\n",
       " 36,\n",
       " 40,\n",
       " 36,\n",
       " 36,\n",
       " 37,\n",
       " 35,\n",
       " 34,\n",
       " 35,\n",
       " 36,\n",
       " 35,\n",
       " 34,\n",
       " 31,\n",
       " 32,\n",
       " 33,\n",
       " 29,\n",
       " 34,\n",
       " 36,\n",
       " 33,\n",
       " 33,\n",
       " 33,\n",
       " 37,\n",
       " 41,\n",
       " 36,\n",
       " 40,\n",
       " 32,\n",
       " 31,\n",
       " 33,\n",
       " 31,\n",
       " 32,\n",
       " 34,\n",
       " 35,\n",
       " 34,\n",
       " 33,\n",
       " 34,\n",
       " 37,\n",
       " 29,\n",
       " 36,\n",
       " 34,\n",
       " 36,\n",
       " 34,\n",
       " 28,\n",
       " 34,\n",
       " 33,\n",
       " 40,\n",
       " 37,\n",
       " 33,\n",
       " 34,\n",
       " 32,\n",
       " 36,\n",
       " 37,\n",
       " 36,\n",
       " 32,\n",
       " 35,\n",
       " 30,\n",
       " 33,\n",
       " 33,\n",
       " 42,\n",
       " 37,\n",
       " 34,\n",
       " 31,\n",
       " 32,\n",
       " 35,\n",
       " 34,\n",
       " 34,\n",
       " 35]"
      ]
     },
     "execution_count": 95,
     "metadata": {},
     "output_type": "execute_result"
    }
   ],
   "source": [
    "[estimator.get_depth() for estimator in rf.estimators_]"
   ]
  },
  {
   "cell_type": "code",
   "execution_count": 96,
   "metadata": {
    "colab": {
     "base_uri": "https://localhost:8080/"
    },
    "id": "lo8mU0fTmOYC",
    "outputId": "1746f8de-04aa-4ac7-bcc6-feb899b6e1f8"
   },
   "outputs": [
    {
     "name": "stdout",
     "output_type": "stream",
     "text": [
      "0.9371190724361993\n",
      "0.5353268391346548\n"
     ]
    }
   ],
   "source": [
    "rf_200 = RandomForestRegressor(n_estimators = 200, random_state = 42)\n",
    "# Fit the model\n",
    "rf_200.fit(X_train, y_train)\n",
    "# Obtain the scores\n",
    "rf_200_train_score = rf_200.score(X_train, y_train)\n",
    "rf_200_test_score = rf_200.score(X_test, y_test)\n",
    "print(rf_200_train_score)\n",
    "print(rf_200_test_score)"
   ]
  },
  {
   "cell_type": "code",
   "execution_count": 97,
   "metadata": {
    "colab": {
     "base_uri": "https://localhost:8080/"
    },
    "id": "lEW-HZS9tP4j",
    "outputId": "fc820da0-8d0d-4a55-979f-87c1a06b6b55"
   },
   "outputs": [
    {
     "data": {
      "text/plain": [
       "679.7511651098755"
      ]
     },
     "execution_count": 97,
     "metadata": {},
     "output_type": "execute_result"
    }
   ],
   "source": [
    "preds=rf.predict(X)\n",
    "mean_squared_error(y, preds)\n",
    "np.sqrt(mean_squared_error(y, preds))"
   ]
  }
 ],
 "metadata": {
  "colab": {
   "collapsed_sections": [],
   "name": " Sales-predictions 1.ipynb",
   "provenance": []
  },
  "kernelspec": {
   "display_name": "Python 3",
   "language": "python",
   "name": "python3"
  },
  "language_info": {
   "codemirror_mode": {
    "name": "ipython",
    "version": 3
   },
   "file_extension": ".py",
   "mimetype": "text/x-python",
   "name": "python",
   "nbconvert_exporter": "python",
   "pygments_lexer": "ipython3",
   "version": "3.8.8"
  }
 },
 "nbformat": 4,
 "nbformat_minor": 1
}
